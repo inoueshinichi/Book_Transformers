{
 "cells": [
  {
   "metadata": {},
   "cell_type": "markdown",
   "source": "## 4章 多言語の固有認識表現",
   "id": "9c196eea5efd72cb"
  },
  {
   "metadata": {},
   "cell_type": "markdown",
   "source": [
    "##### 4.1 データセット\n",
    "+ XTREME : Cross-lingual TRansfer Evaluation of Multilingal Encoders\n",
    "+ PAN-Xを探す"
   ],
   "id": "8daf99b41bcb0f46"
  },
  {
   "metadata": {
    "ExecuteTime": {
     "end_time": "2025-08-04T20:30:07.203268Z",
     "start_time": "2025-08-04T20:30:07.194077Z"
    }
   },
   "cell_type": "code",
   "source": [
    "from huggingface_hub import notebook_login\n",
    "notebook_login()"
   ],
   "id": "889b5c14973a2a06",
   "outputs": [
    {
     "data": {
      "text/plain": [
       "VBox(children=(HTML(value='<center> <img\\nsrc=https://huggingface.co/front/assets/huggingface_logo-noborder.sv…"
      ],
      "application/vnd.jupyter.widget-view+json": {
       "version_major": 2,
       "version_minor": 0,
       "model_id": "7472cc3c5aa8464080447654d3fe73af"
      }
     },
     "metadata": {},
     "output_type": "display_data"
    }
   ],
   "execution_count": 3
  },
  {
   "cell_type": "code",
   "id": "initial_id",
   "metadata": {
    "collapsed": true,
    "ExecuteTime": {
     "end_time": "2025-08-04T20:32:43.962306Z",
     "start_time": "2025-08-04T20:32:39.375805Z"
    }
   },
   "source": [
    "from datasets import get_dataset_config_names\n",
    "from pprint import pprint\n",
    "\n",
    "xtreme_subset = get_dataset_config_names(\"xtreme\")\n",
    "pprint(xtreme_subset)\n",
    "print(f\"XTREME has {len(xtreme_subset)} configurations\")"
   ],
   "outputs": [
    {
     "name": "stdout",
     "output_type": "stream",
     "text": [
      "['MLQA.ar.ar',\n",
      " 'MLQA.ar.de',\n",
      " 'MLQA.ar.en',\n",
      " 'MLQA.ar.es',\n",
      " 'MLQA.ar.hi',\n",
      " 'MLQA.ar.vi',\n",
      " 'MLQA.ar.zh',\n",
      " 'MLQA.de.ar',\n",
      " 'MLQA.de.de',\n",
      " 'MLQA.de.en',\n",
      " 'MLQA.de.es',\n",
      " 'MLQA.de.hi',\n",
      " 'MLQA.de.vi',\n",
      " 'MLQA.de.zh',\n",
      " 'MLQA.en.ar',\n",
      " 'MLQA.en.de',\n",
      " 'MLQA.en.en',\n",
      " 'MLQA.en.es',\n",
      " 'MLQA.en.hi',\n",
      " 'MLQA.en.vi',\n",
      " 'MLQA.en.zh',\n",
      " 'MLQA.es.ar',\n",
      " 'MLQA.es.de',\n",
      " 'MLQA.es.en',\n",
      " 'MLQA.es.es',\n",
      " 'MLQA.es.hi',\n",
      " 'MLQA.es.vi',\n",
      " 'MLQA.es.zh',\n",
      " 'MLQA.hi.ar',\n",
      " 'MLQA.hi.de',\n",
      " 'MLQA.hi.en',\n",
      " 'MLQA.hi.es',\n",
      " 'MLQA.hi.hi',\n",
      " 'MLQA.hi.vi',\n",
      " 'MLQA.hi.zh',\n",
      " 'MLQA.vi.ar',\n",
      " 'MLQA.vi.de',\n",
      " 'MLQA.vi.en',\n",
      " 'MLQA.vi.es',\n",
      " 'MLQA.vi.hi',\n",
      " 'MLQA.vi.vi',\n",
      " 'MLQA.vi.zh',\n",
      " 'MLQA.zh.ar',\n",
      " 'MLQA.zh.de',\n",
      " 'MLQA.zh.en',\n",
      " 'MLQA.zh.es',\n",
      " 'MLQA.zh.hi',\n",
      " 'MLQA.zh.vi',\n",
      " 'MLQA.zh.zh',\n",
      " 'PAN-X.af',\n",
      " 'PAN-X.ar',\n",
      " 'PAN-X.bg',\n",
      " 'PAN-X.bn',\n",
      " 'PAN-X.de',\n",
      " 'PAN-X.el',\n",
      " 'PAN-X.en',\n",
      " 'PAN-X.es',\n",
      " 'PAN-X.et',\n",
      " 'PAN-X.eu',\n",
      " 'PAN-X.fa',\n",
      " 'PAN-X.fi',\n",
      " 'PAN-X.fr',\n",
      " 'PAN-X.he',\n",
      " 'PAN-X.hi',\n",
      " 'PAN-X.hu',\n",
      " 'PAN-X.id',\n",
      " 'PAN-X.it',\n",
      " 'PAN-X.ja',\n",
      " 'PAN-X.jv',\n",
      " 'PAN-X.ka',\n",
      " 'PAN-X.kk',\n",
      " 'PAN-X.ko',\n",
      " 'PAN-X.ml',\n",
      " 'PAN-X.mr',\n",
      " 'PAN-X.ms',\n",
      " 'PAN-X.my',\n",
      " 'PAN-X.nl',\n",
      " 'PAN-X.pt',\n",
      " 'PAN-X.ru',\n",
      " 'PAN-X.sw',\n",
      " 'PAN-X.ta',\n",
      " 'PAN-X.te',\n",
      " 'PAN-X.th',\n",
      " 'PAN-X.tl',\n",
      " 'PAN-X.tr',\n",
      " 'PAN-X.ur',\n",
      " 'PAN-X.vi',\n",
      " 'PAN-X.yo',\n",
      " 'PAN-X.zh',\n",
      " 'PAWS-X.de',\n",
      " 'PAWS-X.en',\n",
      " 'PAWS-X.es',\n",
      " 'PAWS-X.fr',\n",
      " 'PAWS-X.ja',\n",
      " 'PAWS-X.ko',\n",
      " 'PAWS-X.zh',\n",
      " 'SQuAD',\n",
      " 'XNLI',\n",
      " 'XQuAD.ar',\n",
      " 'XQuAD.de',\n",
      " 'XQuAD.el',\n",
      " 'XQuAD.en',\n",
      " 'XQuAD.es',\n",
      " 'XQuAD.hi',\n",
      " 'XQuAD.ru',\n",
      " 'XQuAD.th',\n",
      " 'XQuAD.tr',\n",
      " 'XQuAD.vi',\n",
      " 'XQuAD.zh',\n",
      " 'bucc18.de',\n",
      " 'bucc18.fr',\n",
      " 'bucc18.ru',\n",
      " 'bucc18.zh',\n",
      " 'tatoeba.afr',\n",
      " 'tatoeba.ara',\n",
      " 'tatoeba.ben',\n",
      " 'tatoeba.bul',\n",
      " 'tatoeba.cmn',\n",
      " 'tatoeba.deu',\n",
      " 'tatoeba.ell',\n",
      " 'tatoeba.est',\n",
      " 'tatoeba.eus',\n",
      " 'tatoeba.fin',\n",
      " 'tatoeba.fra',\n",
      " 'tatoeba.heb',\n",
      " 'tatoeba.hin',\n",
      " 'tatoeba.hun',\n",
      " 'tatoeba.ind',\n",
      " 'tatoeba.ita',\n",
      " 'tatoeba.jav',\n",
      " 'tatoeba.jpn',\n",
      " 'tatoeba.kat',\n",
      " 'tatoeba.kaz',\n",
      " 'tatoeba.kor',\n",
      " 'tatoeba.mal',\n",
      " 'tatoeba.mar',\n",
      " 'tatoeba.nld',\n",
      " 'tatoeba.pes',\n",
      " 'tatoeba.por',\n",
      " 'tatoeba.rus',\n",
      " 'tatoeba.spa',\n",
      " 'tatoeba.swh',\n",
      " 'tatoeba.tam',\n",
      " 'tatoeba.tel',\n",
      " 'tatoeba.tgl',\n",
      " 'tatoeba.tha',\n",
      " 'tatoeba.tur',\n",
      " 'tatoeba.urd',\n",
      " 'tatoeba.vie',\n",
      " 'tydiqa',\n",
      " 'udpos.Afrikaans',\n",
      " 'udpos.Arabic',\n",
      " 'udpos.Basque',\n",
      " 'udpos.Bulgarian',\n",
      " 'udpos.Chinese',\n",
      " 'udpos.Dutch',\n",
      " 'udpos.English',\n",
      " 'udpos.Estonian',\n",
      " 'udpos.Finnish',\n",
      " 'udpos.French',\n",
      " 'udpos.German',\n",
      " 'udpos.Greek',\n",
      " 'udpos.Hebrew',\n",
      " 'udpos.Hindi',\n",
      " 'udpos.Hungarian',\n",
      " 'udpos.Indonesian',\n",
      " 'udpos.Italian',\n",
      " 'udpos.Japanese',\n",
      " 'udpos.Kazakh',\n",
      " 'udpos.Korean',\n",
      " 'udpos.Marathi',\n",
      " 'udpos.Persian',\n",
      " 'udpos.Portuguese',\n",
      " 'udpos.Russian',\n",
      " 'udpos.Spanish',\n",
      " 'udpos.Tagalog',\n",
      " 'udpos.Tamil',\n",
      " 'udpos.Telugu',\n",
      " 'udpos.Thai',\n",
      " 'udpos.Turkish',\n",
      " 'udpos.Urdu',\n",
      " 'udpos.Vietnamese',\n",
      " 'udpos.Yoruba']\n",
      "XTREME has 183 configurations\n"
     ]
    }
   ],
   "execution_count": 7
  },
  {
   "metadata": {
    "ExecuteTime": {
     "end_time": "2025-08-04T20:34:46.598012Z",
     "start_time": "2025-08-04T20:34:46.594339Z"
    }
   },
   "cell_type": "code",
   "source": [
    "panx_subsets = [s for s in xtreme_subset if s.startswith(\"PAN\")]\n",
    "panx_subsets"
   ],
   "id": "bcbd810d31bc6e6",
   "outputs": [
    {
     "data": {
      "text/plain": [
       "['PAN-X.af',\n",
       " 'PAN-X.ar',\n",
       " 'PAN-X.bg',\n",
       " 'PAN-X.bn',\n",
       " 'PAN-X.de',\n",
       " 'PAN-X.el',\n",
       " 'PAN-X.en',\n",
       " 'PAN-X.es',\n",
       " 'PAN-X.et',\n",
       " 'PAN-X.eu',\n",
       " 'PAN-X.fa',\n",
       " 'PAN-X.fi',\n",
       " 'PAN-X.fr',\n",
       " 'PAN-X.he',\n",
       " 'PAN-X.hi',\n",
       " 'PAN-X.hu',\n",
       " 'PAN-X.id',\n",
       " 'PAN-X.it',\n",
       " 'PAN-X.ja',\n",
       " 'PAN-X.jv',\n",
       " 'PAN-X.ka',\n",
       " 'PAN-X.kk',\n",
       " 'PAN-X.ko',\n",
       " 'PAN-X.ml',\n",
       " 'PAN-X.mr',\n",
       " 'PAN-X.ms',\n",
       " 'PAN-X.my',\n",
       " 'PAN-X.nl',\n",
       " 'PAN-X.pt',\n",
       " 'PAN-X.ru',\n",
       " 'PAN-X.sw',\n",
       " 'PAN-X.ta',\n",
       " 'PAN-X.te',\n",
       " 'PAN-X.th',\n",
       " 'PAN-X.tl',\n",
       " 'PAN-X.tr',\n",
       " 'PAN-X.ur',\n",
       " 'PAN-X.vi',\n",
       " 'PAN-X.yo',\n",
       " 'PAN-X.zh']"
      ]
     },
     "execution_count": 10,
     "metadata": {},
     "output_type": "execute_result"
    }
   ],
   "execution_count": 10
  },
  {
   "metadata": {
    "ExecuteTime": {
     "end_time": "2025-08-04T20:55:25.961245Z",
     "start_time": "2025-08-04T20:55:15.458855Z"
    }
   },
   "cell_type": "code",
   "source": [
    "# ドイツ語のコーパスを取得\n",
    "from datasets import load_dataset\n",
    "\n",
    "tmp_ds = load_dataset(\"xtreme\", name=\"PAN-X.de\")\n",
    "print(tmp_ds)\n",
    "for it in tmp_ds:\n",
    "    print(it)"
   ],
   "id": "e150fe3e6691cab0",
   "outputs": [
    {
     "name": "stdout",
     "output_type": "stream",
     "text": [
      "DatasetDict({\n",
      "    train: Dataset({\n",
      "        features: ['tokens', 'ner_tags', 'langs'],\n",
      "        num_rows: 20000\n",
      "    })\n",
      "    validation: Dataset({\n",
      "        features: ['tokens', 'ner_tags', 'langs'],\n",
      "        num_rows: 10000\n",
      "    })\n",
      "    test: Dataset({\n",
      "        features: ['tokens', 'ner_tags', 'langs'],\n",
      "        num_rows: 10000\n",
      "    })\n",
      "})\n",
      "train\n",
      "validation\n",
      "test\n"
     ]
    }
   ],
   "execution_count": 13
  },
  {
   "metadata": {
    "ExecuteTime": {
     "end_time": "2025-08-04T20:58:59.098898Z",
     "start_time": "2025-08-04T20:58:18.186684Z"
    }
   },
   "cell_type": "code",
   "source": [
    "from collections import defaultdict\n",
    "from datasets import DatasetDict\n",
    "\n",
    "langs = [\"de\", \"fr\", \"it\", \"en\"]\n",
    "fracs = [0.629, 0.229, 0.084, 0.059]\n",
    "# キーが存在しなければ, DatasetDictを返す\n",
    "panx_ch = defaultdict(DatasetDict)\n",
    "\n",
    "for lang, frac in zip(langs, fracs):\n",
    "    # 単語コーパスをロード\n",
    "    ds = load_dataset(\"xtreme\", name=f\"PAN-X.{lang}\")\n",
    "    # 各分割をシャッフルし、話者の割合に応じてダウンサンプリング\n",
    "    for split in ds:\n",
    "        panx_ch[lang][split] = (\n",
    "            ds[split]\n",
    "            .shuffle(seed=0)\n",
    "            .select(range(int(frac * ds[split].num_rows))))\n",
    "\n",
    "print(panx_ch)"
   ],
   "id": "9b32bbb2f5952acc",
   "outputs": [
    {
     "name": "stderr",
     "output_type": "stream",
     "text": [
      "Xet Storage is enabled for this repo, but the 'hf_xet' package is not installed. Falling back to regular HTTP download. For better performance, install the package with: `pip install huggingface_hub[hf_xet]` or `pip install hf_xet`\n"
     ]
    },
    {
     "data": {
      "text/plain": [
       "train-00000-of-00001.parquet:   0%|          | 0.00/837k [00:00<?, ?B/s]"
      ],
      "application/vnd.jupyter.widget-view+json": {
       "version_major": 2,
       "version_minor": 0,
       "model_id": "1b75ca24160a4dd78b3250b11b761fe8"
      }
     },
     "metadata": {},
     "output_type": "display_data"
    },
    {
     "name": "stderr",
     "output_type": "stream",
     "text": [
      "Xet Storage is enabled for this repo, but the 'hf_xet' package is not installed. Falling back to regular HTTP download. For better performance, install the package with: `pip install huggingface_hub[hf_xet]` or `pip install hf_xet`\n"
     ]
    },
    {
     "data": {
      "text/plain": [
       "validation-00000-of-00001.parquet:   0%|          | 0.00/419k [00:00<?, ?B/s]"
      ],
      "application/vnd.jupyter.widget-view+json": {
       "version_major": 2,
       "version_minor": 0,
       "model_id": "6ffdee6313044e0a85e5144fd3dca5a7"
      }
     },
     "metadata": {},
     "output_type": "display_data"
    },
    {
     "name": "stderr",
     "output_type": "stream",
     "text": [
      "Xet Storage is enabled for this repo, but the 'hf_xet' package is not installed. Falling back to regular HTTP download. For better performance, install the package with: `pip install huggingface_hub[hf_xet]` or `pip install hf_xet`\n"
     ]
    },
    {
     "data": {
      "text/plain": [
       "test-00000-of-00001.parquet:   0%|          | 0.00/423k [00:00<?, ?B/s]"
      ],
      "application/vnd.jupyter.widget-view+json": {
       "version_major": 2,
       "version_minor": 0,
       "model_id": "9c17059f6ac04a9295287a097443a264"
      }
     },
     "metadata": {},
     "output_type": "display_data"
    },
    {
     "data": {
      "text/plain": [
       "Generating train split:   0%|          | 0/20000 [00:00<?, ? examples/s]"
      ],
      "application/vnd.jupyter.widget-view+json": {
       "version_major": 2,
       "version_minor": 0,
       "model_id": "a60ca18baaed4414b84f6da4552a5fdb"
      }
     },
     "metadata": {},
     "output_type": "display_data"
    },
    {
     "data": {
      "text/plain": [
       "Generating validation split:   0%|          | 0/10000 [00:00<?, ? examples/s]"
      ],
      "application/vnd.jupyter.widget-view+json": {
       "version_major": 2,
       "version_minor": 0,
       "model_id": "6928308dbfdb427b84749d92a220a0ac"
      }
     },
     "metadata": {},
     "output_type": "display_data"
    },
    {
     "data": {
      "text/plain": [
       "Generating test split:   0%|          | 0/10000 [00:00<?, ? examples/s]"
      ],
      "application/vnd.jupyter.widget-view+json": {
       "version_major": 2,
       "version_minor": 0,
       "model_id": "abc94d17d13449d5a702736c00ffcf09"
      }
     },
     "metadata": {},
     "output_type": "display_data"
    },
    {
     "name": "stderr",
     "output_type": "stream",
     "text": [
      "Xet Storage is enabled for this repo, but the 'hf_xet' package is not installed. Falling back to regular HTTP download. For better performance, install the package with: `pip install huggingface_hub[hf_xet]` or `pip install hf_xet`\n"
     ]
    },
    {
     "data": {
      "text/plain": [
       "train-00000-of-00001.parquet:   0%|          | 0.00/932k [00:00<?, ?B/s]"
      ],
      "application/vnd.jupyter.widget-view+json": {
       "version_major": 2,
       "version_minor": 0,
       "model_id": "0911c18ac5a64d4caeabb9afd43a3f02"
      }
     },
     "metadata": {},
     "output_type": "display_data"
    },
    {
     "name": "stderr",
     "output_type": "stream",
     "text": [
      "Xet Storage is enabled for this repo, but the 'hf_xet' package is not installed. Falling back to regular HTTP download. For better performance, install the package with: `pip install huggingface_hub[hf_xet]` or `pip install hf_xet`\n"
     ]
    },
    {
     "data": {
      "text/plain": [
       "validation-00000-of-00001.parquet:   0%|          | 0.00/459k [00:00<?, ?B/s]"
      ],
      "application/vnd.jupyter.widget-view+json": {
       "version_major": 2,
       "version_minor": 0,
       "model_id": "91aa9c22daad4d0aa69bf1553505cfd0"
      }
     },
     "metadata": {},
     "output_type": "display_data"
    },
    {
     "name": "stderr",
     "output_type": "stream",
     "text": [
      "Xet Storage is enabled for this repo, but the 'hf_xet' package is not installed. Falling back to regular HTTP download. For better performance, install the package with: `pip install huggingface_hub[hf_xet]` or `pip install hf_xet`\n"
     ]
    },
    {
     "data": {
      "text/plain": [
       "test-00000-of-00001.parquet:   0%|          | 0.00/464k [00:00<?, ?B/s]"
      ],
      "application/vnd.jupyter.widget-view+json": {
       "version_major": 2,
       "version_minor": 0,
       "model_id": "af572d56ccc443aab1bb1c13d211f29d"
      }
     },
     "metadata": {},
     "output_type": "display_data"
    },
    {
     "data": {
      "text/plain": [
       "Generating train split:   0%|          | 0/20000 [00:00<?, ? examples/s]"
      ],
      "application/vnd.jupyter.widget-view+json": {
       "version_major": 2,
       "version_minor": 0,
       "model_id": "075a3e82604c4b41bdc4c10c4e341735"
      }
     },
     "metadata": {},
     "output_type": "display_data"
    },
    {
     "data": {
      "text/plain": [
       "Generating validation split:   0%|          | 0/10000 [00:00<?, ? examples/s]"
      ],
      "application/vnd.jupyter.widget-view+json": {
       "version_major": 2,
       "version_minor": 0,
       "model_id": "a474c072c1a84470a285d7713d9d9e99"
      }
     },
     "metadata": {},
     "output_type": "display_data"
    },
    {
     "data": {
      "text/plain": [
       "Generating test split:   0%|          | 0/10000 [00:00<?, ? examples/s]"
      ],
      "application/vnd.jupyter.widget-view+json": {
       "version_major": 2,
       "version_minor": 0,
       "model_id": "316037b2c6024ecd8e5c13ebf002c6c8"
      }
     },
     "metadata": {},
     "output_type": "display_data"
    },
    {
     "name": "stderr",
     "output_type": "stream",
     "text": [
      "Xet Storage is enabled for this repo, but the 'hf_xet' package is not installed. Falling back to regular HTTP download. For better performance, install the package with: `pip install huggingface_hub[hf_xet]` or `pip install hf_xet`\n"
     ]
    },
    {
     "data": {
      "text/plain": [
       "train-00000-of-00001.parquet:   0%|          | 0.00/942k [00:00<?, ?B/s]"
      ],
      "application/vnd.jupyter.widget-view+json": {
       "version_major": 2,
       "version_minor": 0,
       "model_id": "666631800c374f899f476ab676c25cd6"
      }
     },
     "metadata": {},
     "output_type": "display_data"
    },
    {
     "name": "stderr",
     "output_type": "stream",
     "text": [
      "Xet Storage is enabled for this repo, but the 'hf_xet' package is not installed. Falling back to regular HTTP download. For better performance, install the package with: `pip install huggingface_hub[hf_xet]` or `pip install hf_xet`\n"
     ]
    },
    {
     "data": {
      "text/plain": [
       "validation-00000-of-00001.parquet:   0%|          | 0.00/472k [00:00<?, ?B/s]"
      ],
      "application/vnd.jupyter.widget-view+json": {
       "version_major": 2,
       "version_minor": 0,
       "model_id": "a94a1eb74a874de9aebfbbba194747df"
      }
     },
     "metadata": {},
     "output_type": "display_data"
    },
    {
     "name": "stderr",
     "output_type": "stream",
     "text": [
      "Xet Storage is enabled for this repo, but the 'hf_xet' package is not installed. Falling back to regular HTTP download. For better performance, install the package with: `pip install huggingface_hub[hf_xet]` or `pip install hf_xet`\n"
     ]
    },
    {
     "data": {
      "text/plain": [
       "test-00000-of-00001.parquet:   0%|          | 0.00/472k [00:00<?, ?B/s]"
      ],
      "application/vnd.jupyter.widget-view+json": {
       "version_major": 2,
       "version_minor": 0,
       "model_id": "ffb3d14cfd284c6d96d15a4cb44c8ddc"
      }
     },
     "metadata": {},
     "output_type": "display_data"
    },
    {
     "data": {
      "text/plain": [
       "Generating train split:   0%|          | 0/20000 [00:00<?, ? examples/s]"
      ],
      "application/vnd.jupyter.widget-view+json": {
       "version_major": 2,
       "version_minor": 0,
       "model_id": "7d4ed1d586374ac5b85650558eb8c9c3"
      }
     },
     "metadata": {},
     "output_type": "display_data"
    },
    {
     "data": {
      "text/plain": [
       "Generating validation split:   0%|          | 0/10000 [00:00<?, ? examples/s]"
      ],
      "application/vnd.jupyter.widget-view+json": {
       "version_major": 2,
       "version_minor": 0,
       "model_id": "3edf42bb1f904dd3be3d0ba84b3bfa2c"
      }
     },
     "metadata": {},
     "output_type": "display_data"
    },
    {
     "data": {
      "text/plain": [
       "Generating test split:   0%|          | 0/10000 [00:00<?, ? examples/s]"
      ],
      "application/vnd.jupyter.widget-view+json": {
       "version_major": 2,
       "version_minor": 0,
       "model_id": "207b725775b14434af2bebe426cb02f2"
      }
     },
     "metadata": {},
     "output_type": "display_data"
    },
    {
     "name": "stdout",
     "output_type": "stream",
     "text": [
      "defaultdict(<class 'datasets.dataset_dict.DatasetDict'>, {'de': DatasetDict({\n",
      "    train: Dataset({\n",
      "        features: ['tokens', 'ner_tags', 'langs'],\n",
      "        num_rows: 12580\n",
      "    })\n",
      "    validation: Dataset({\n",
      "        features: ['tokens', 'ner_tags', 'langs'],\n",
      "        num_rows: 6290\n",
      "    })\n",
      "    test: Dataset({\n",
      "        features: ['tokens', 'ner_tags', 'langs'],\n",
      "        num_rows: 6290\n",
      "    })\n",
      "}), 'fr': DatasetDict({\n",
      "    train: Dataset({\n",
      "        features: ['tokens', 'ner_tags', 'langs'],\n",
      "        num_rows: 4580\n",
      "    })\n",
      "    validation: Dataset({\n",
      "        features: ['tokens', 'ner_tags', 'langs'],\n",
      "        num_rows: 2290\n",
      "    })\n",
      "    test: Dataset({\n",
      "        features: ['tokens', 'ner_tags', 'langs'],\n",
      "        num_rows: 2290\n",
      "    })\n",
      "}), 'it': DatasetDict({\n",
      "    train: Dataset({\n",
      "        features: ['tokens', 'ner_tags', 'langs'],\n",
      "        num_rows: 1680\n",
      "    })\n",
      "    validation: Dataset({\n",
      "        features: ['tokens', 'ner_tags', 'langs'],\n",
      "        num_rows: 840\n",
      "    })\n",
      "    test: Dataset({\n",
      "        features: ['tokens', 'ner_tags', 'langs'],\n",
      "        num_rows: 840\n",
      "    })\n",
      "}), 'en': DatasetDict({\n",
      "    train: Dataset({\n",
      "        features: ['tokens', 'ner_tags', 'langs'],\n",
      "        num_rows: 1180\n",
      "    })\n",
      "    validation: Dataset({\n",
      "        features: ['tokens', 'ner_tags', 'langs'],\n",
      "        num_rows: 590\n",
      "    })\n",
      "    test: Dataset({\n",
      "        features: ['tokens', 'ner_tags', 'langs'],\n",
      "        num_rows: 590\n",
      "    })\n",
      "})})\n"
     ]
    }
   ],
   "execution_count": 14
  },
  {
   "metadata": {
    "ExecuteTime": {
     "end_time": "2025-08-04T21:05:31.083244Z",
     "start_time": "2025-08-04T21:05:31.058957Z"
    }
   },
   "cell_type": "code",
   "source": [
    "import pandas as pd\n",
    "\n",
    "pd.DataFrame({lang: [panx_ch[lang][\"train\"].num_rows] for lang in langs}, index=[\"Number of training examples\"])"
   ],
   "id": "d537ad4845bc53df",
   "outputs": [
    {
     "data": {
      "text/plain": [
       "                                de    fr    it    en\n",
       "Number of training examples  12580  4580  1680  1180"
      ],
      "text/html": [
       "<div>\n",
       "<style scoped>\n",
       "    .dataframe tbody tr th:only-of-type {\n",
       "        vertical-align: middle;\n",
       "    }\n",
       "\n",
       "    .dataframe tbody tr th {\n",
       "        vertical-align: top;\n",
       "    }\n",
       "\n",
       "    .dataframe thead th {\n",
       "        text-align: right;\n",
       "    }\n",
       "</style>\n",
       "<table border=\"1\" class=\"dataframe\">\n",
       "  <thead>\n",
       "    <tr style=\"text-align: right;\">\n",
       "      <th></th>\n",
       "      <th>de</th>\n",
       "      <th>fr</th>\n",
       "      <th>it</th>\n",
       "      <th>en</th>\n",
       "    </tr>\n",
       "  </thead>\n",
       "  <tbody>\n",
       "    <tr>\n",
       "      <th>Number of training examples</th>\n",
       "      <td>12580</td>\n",
       "      <td>4580</td>\n",
       "      <td>1680</td>\n",
       "      <td>1180</td>\n",
       "    </tr>\n",
       "  </tbody>\n",
       "</table>\n",
       "</div>"
      ]
     },
     "execution_count": 15,
     "metadata": {},
     "output_type": "execute_result"
    }
   ],
   "execution_count": 15
  },
  {
   "metadata": {
    "ExecuteTime": {
     "end_time": "2025-08-04T21:08:41.935401Z",
     "start_time": "2025-08-04T21:08:41.930205Z"
    }
   },
   "cell_type": "code",
   "source": [
    "element = panx_ch[\"de\"][\"train\"][0]\n",
    "for key, value in element.items():\n",
    "    print(f\"{key}: {value}\")"
   ],
   "id": "c4937e696e1d5b36",
   "outputs": [
    {
     "name": "stdout",
     "output_type": "stream",
     "text": [
      "tokens: ['2.000', 'Einwohnern', 'an', 'der', 'Danziger', 'Bucht', 'in', 'der', 'polnischen', 'Woiwodschaft', 'Pommern', '.']\n",
      "ner_tags: [0, 0, 0, 0, 5, 6, 0, 0, 5, 5, 6, 0]\n",
      "langs: ['de', 'de', 'de', 'de', 'de', 'de', 'de', 'de', 'de', 'de', 'de', 'de']\n"
     ]
    }
   ],
   "execution_count": 16
  },
  {
   "metadata": {
    "ExecuteTime": {
     "end_time": "2025-08-04T21:11:41.331687Z",
     "start_time": "2025-08-04T21:11:41.327484Z"
    }
   },
   "cell_type": "code",
   "source": [
    "for key, value in panx_ch[\"de\"][\"train\"].features.items():\n",
    "    print(f\"{key}: {value}\")"
   ],
   "id": "1edf6465d70fd856",
   "outputs": [
    {
     "name": "stdout",
     "output_type": "stream",
     "text": [
      "tokens: Sequence(feature=Value(dtype='string', id=None), length=-1, id=None)\n",
      "ner_tags: Sequence(feature=ClassLabel(names=['O', 'B-PER', 'I-PER', 'B-ORG', 'I-ORG', 'B-LOC', 'I-LOC'], id=None), length=-1, id=None)\n",
      "langs: Sequence(feature=Value(dtype='string', id=None), length=-1, id=None)\n"
     ]
    }
   ],
   "execution_count": 17
  },
  {
   "metadata": {
    "ExecuteTime": {
     "end_time": "2025-08-04T22:10:39.438915Z",
     "start_time": "2025-08-04T22:10:39.308838Z"
    }
   },
   "cell_type": "code",
   "source": "panx_ch[\"de\"][\"train\"][\"ner_tags\"][:5]",
   "id": "a37e9771a54bc54c",
   "outputs": [
    {
     "data": {
      "text/plain": [
       "[[0, 0, 0, 0, 5, 6, 0, 0, 5, 5, 6, 0],\n",
       " [0, 0, 0, 3, 0, 0, 0, 3, 4, 0, 0],\n",
       " [0,\n",
       "  0,\n",
       "  0,\n",
       "  0,\n",
       "  1,\n",
       "  2,\n",
       "  0,\n",
       "  1,\n",
       "  2,\n",
       "  0,\n",
       "  1,\n",
       "  2,\n",
       "  0,\n",
       "  1,\n",
       "  2,\n",
       "  0,\n",
       "  1,\n",
       "  2,\n",
       "  2,\n",
       "  0,\n",
       "  1,\n",
       "  2,\n",
       "  0,\n",
       "  1,\n",
       "  2,\n",
       "  0,\n",
       "  1,\n",
       "  2,\n",
       "  0,\n",
       "  1,\n",
       "  2,\n",
       "  0,\n",
       "  1,\n",
       "  2,\n",
       "  0,\n",
       "  1,\n",
       "  2,\n",
       "  0,\n",
       "  1,\n",
       "  2,\n",
       "  0,\n",
       "  1,\n",
       "  2,\n",
       "  0,\n",
       "  0,\n",
       "  0,\n",
       "  0,\n",
       "  0,\n",
       "  0,\n",
       "  0,\n",
       "  0,\n",
       "  0,\n",
       "  1,\n",
       "  2,\n",
       "  0],\n",
       " [0, 0, 3, 4, 0, 0],\n",
       " [0, 1, 2, 2, 2]]"
      ]
     },
     "execution_count": 37,
     "metadata": {},
     "output_type": "execute_result"
    }
   ],
   "execution_count": 37
  },
  {
   "metadata": {
    "ExecuteTime": {
     "end_time": "2025-08-04T22:03:55.739266Z",
     "start_time": "2025-08-04T22:03:55.735224Z"
    }
   },
   "cell_type": "code",
   "source": [
    "ner_tags = panx_ch[\"de\"][\"train\"].features['ner_tags']\n",
    "ner_tags"
   ],
   "id": "17353be6e3c27cff",
   "outputs": [
    {
     "data": {
      "text/plain": [
       "Sequence(feature=ClassLabel(names=['O', 'B-PER', 'I-PER', 'B-ORG', 'I-ORG', 'B-LOC', 'I-LOC'], id=None), length=-1, id=None)"
      ]
     },
     "execution_count": 25,
     "metadata": {},
     "output_type": "execute_result"
    }
   ],
   "execution_count": 25
  },
  {
   "metadata": {
    "ExecuteTime": {
     "end_time": "2025-08-04T22:06:09.581423Z",
     "start_time": "2025-08-04T22:06:09.578075Z"
    }
   },
   "cell_type": "code",
   "source": "ner_tags.feature",
   "id": "e823b68ebf8c5114",
   "outputs": [
    {
     "data": {
      "text/plain": [
       "ClassLabel(names=['O', 'B-PER', 'I-PER', 'B-ORG', 'I-ORG', 'B-LOC', 'I-LOC'], id=None)"
      ]
     },
     "execution_count": 30,
     "metadata": {},
     "output_type": "execute_result"
    }
   ],
   "execution_count": 30
  },
  {
   "metadata": {
    "ExecuteTime": {
     "end_time": "2025-08-04T22:07:04.379519Z",
     "start_time": "2025-08-04T22:07:04.375045Z"
    }
   },
   "cell_type": "code",
   "source": "ner_tags.feature.__dict__",
   "id": "7dc68c6e6e82271d",
   "outputs": [
    {
     "data": {
      "text/plain": [
       "{'names': ['O', 'B-PER', 'I-PER', 'B-ORG', 'I-ORG', 'B-LOC', 'I-LOC'],\n",
       " 'id': None,\n",
       " 'num_classes': 7,\n",
       " 'names_file': None,\n",
       " '_int2str': ['O', 'B-PER', 'I-PER', 'B-ORG', 'I-ORG', 'B-LOC', 'I-LOC'],\n",
       " '_str2int': {'O': 0,\n",
       "  'B-PER': 1,\n",
       "  'I-PER': 2,\n",
       "  'B-ORG': 3,\n",
       "  'I-ORG': 4,\n",
       "  'B-LOC': 5,\n",
       "  'I-LOC': 6}}"
      ]
     },
     "execution_count": 35,
     "metadata": {},
     "output_type": "execute_result"
    }
   ],
   "execution_count": 35
  },
  {
   "metadata": {
    "ExecuteTime": {
     "end_time": "2025-08-04T22:13:33.047113Z",
     "start_time": "2025-08-04T22:13:33.042758Z"
    }
   },
   "cell_type": "code",
   "source": [
    "tags = panx_ch[\"de\"][\"train\"].features[\"ner_tags\"].feature\n",
    "print(tags)\n",
    "\n",
    "def create_tag_names(batch):\n",
    "    return {\"ner_tags_str\": [tags.int2str(idx) for idx in batch[\"ner_tags\"]]}"
   ],
   "id": "41cccfcf341d4905",
   "outputs": [
    {
     "name": "stdout",
     "output_type": "stream",
     "text": [
      "ClassLabel(names=['O', 'B-PER', 'I-PER', 'B-ORG', 'I-ORG', 'B-LOC', 'I-LOC'], id=None)\n"
     ]
    }
   ],
   "execution_count": 39
  },
  {
   "metadata": {
    "ExecuteTime": {
     "end_time": "2025-08-04T22:15:02.077471Z",
     "start_time": "2025-08-04T22:14:59.693965Z"
    }
   },
   "cell_type": "code",
   "source": "panx_de = panx_ch[\"de\"].map(create_tag_names)",
   "id": "3935623c8dd204d3",
   "outputs": [
    {
     "data": {
      "text/plain": [
       "Map:   0%|          | 0/12580 [00:00<?, ? examples/s]"
      ],
      "application/vnd.jupyter.widget-view+json": {
       "version_major": 2,
       "version_minor": 0,
       "model_id": "195cae762d9d4511ab48edcf0715c325"
      }
     },
     "metadata": {},
     "output_type": "display_data"
    },
    {
     "data": {
      "text/plain": [
       "Map:   0%|          | 0/6290 [00:00<?, ? examples/s]"
      ],
      "application/vnd.jupyter.widget-view+json": {
       "version_major": 2,
       "version_minor": 0,
       "model_id": "b18740bce2a04d72be65f4722ba70f31"
      }
     },
     "metadata": {},
     "output_type": "display_data"
    },
    {
     "data": {
      "text/plain": [
       "Map:   0%|          | 0/6290 [00:00<?, ? examples/s]"
      ],
      "application/vnd.jupyter.widget-view+json": {
       "version_major": 2,
       "version_minor": 0,
       "model_id": "aefb9962176e416ea9c0c69625a1640a"
      }
     },
     "metadata": {},
     "output_type": "display_data"
    }
   ],
   "execution_count": 40
  },
  {
   "metadata": {
    "ExecuteTime": {
     "end_time": "2025-08-04T22:16:23.315529Z",
     "start_time": "2025-08-04T22:16:23.306752Z"
    }
   },
   "cell_type": "code",
   "source": [
    "de_example = panx_de[\"train\"][0]\n",
    "pd.DataFrame([de_example[\"tokens\"], de_example[\"ner_tags_str\"]], [\"Tokens\", \"Tags\"])"
   ],
   "id": "937f22e0ffdf7602",
   "outputs": [
    {
     "data": {
      "text/plain": [
       "           0           1   2    3         4      5   6    7           8   \\\n",
       "Tokens  2.000  Einwohnern  an  der  Danziger  Bucht  in  der  polnischen   \n",
       "Tags        O           O   O    O     B-LOC  I-LOC   O    O       B-LOC   \n",
       "\n",
       "                  9        10 11  \n",
       "Tokens  Woiwodschaft  Pommern  .  \n",
       "Tags           B-LOC    I-LOC  O  "
      ],
      "text/html": [
       "<div>\n",
       "<style scoped>\n",
       "    .dataframe tbody tr th:only-of-type {\n",
       "        vertical-align: middle;\n",
       "    }\n",
       "\n",
       "    .dataframe tbody tr th {\n",
       "        vertical-align: top;\n",
       "    }\n",
       "\n",
       "    .dataframe thead th {\n",
       "        text-align: right;\n",
       "    }\n",
       "</style>\n",
       "<table border=\"1\" class=\"dataframe\">\n",
       "  <thead>\n",
       "    <tr style=\"text-align: right;\">\n",
       "      <th></th>\n",
       "      <th>0</th>\n",
       "      <th>1</th>\n",
       "      <th>2</th>\n",
       "      <th>3</th>\n",
       "      <th>4</th>\n",
       "      <th>5</th>\n",
       "      <th>6</th>\n",
       "      <th>7</th>\n",
       "      <th>8</th>\n",
       "      <th>9</th>\n",
       "      <th>10</th>\n",
       "      <th>11</th>\n",
       "    </tr>\n",
       "  </thead>\n",
       "  <tbody>\n",
       "    <tr>\n",
       "      <th>Tokens</th>\n",
       "      <td>2.000</td>\n",
       "      <td>Einwohnern</td>\n",
       "      <td>an</td>\n",
       "      <td>der</td>\n",
       "      <td>Danziger</td>\n",
       "      <td>Bucht</td>\n",
       "      <td>in</td>\n",
       "      <td>der</td>\n",
       "      <td>polnischen</td>\n",
       "      <td>Woiwodschaft</td>\n",
       "      <td>Pommern</td>\n",
       "      <td>.</td>\n",
       "    </tr>\n",
       "    <tr>\n",
       "      <th>Tags</th>\n",
       "      <td>O</td>\n",
       "      <td>O</td>\n",
       "      <td>O</td>\n",
       "      <td>O</td>\n",
       "      <td>B-LOC</td>\n",
       "      <td>I-LOC</td>\n",
       "      <td>O</td>\n",
       "      <td>O</td>\n",
       "      <td>B-LOC</td>\n",
       "      <td>B-LOC</td>\n",
       "      <td>I-LOC</td>\n",
       "      <td>O</td>\n",
       "    </tr>\n",
       "  </tbody>\n",
       "</table>\n",
       "</div>"
      ]
     },
     "execution_count": 41,
     "metadata": {},
     "output_type": "execute_result"
    }
   ],
   "execution_count": 41
  },
  {
   "metadata": {
    "ExecuteTime": {
     "end_time": "2025-08-04T22:22:16.788440Z",
     "start_time": "2025-08-04T22:22:16.471405Z"
    }
   },
   "cell_type": "code",
   "source": [
    "from collections import Counter\n",
    "\n",
    "split2freqs = defaultdict(Counter)\n",
    "for split, dataset in panx_de.items():\n",
    "    for row in dataset[\"ner_tags_str\"]:\n",
    "        for tag in row:\n",
    "            if tag.startswith(\"B\"):\n",
    "                tag_type = tag.split(\"-\")[1]\n",
    "                split2freqs[split][tag_type] += 1\n",
    "\n",
    "pd.DataFrame.from_dict(split2freqs, orient=\"index\")"
   ],
   "id": "6ccf55b50d64b583",
   "outputs": [
    {
     "data": {
      "text/plain": [
       "             LOC   ORG   PER\n",
       "train       6186  5366  5810\n",
       "validation  3172  2683  2893\n",
       "test        3180  2573  3071"
      ],
      "text/html": [
       "<div>\n",
       "<style scoped>\n",
       "    .dataframe tbody tr th:only-of-type {\n",
       "        vertical-align: middle;\n",
       "    }\n",
       "\n",
       "    .dataframe tbody tr th {\n",
       "        vertical-align: top;\n",
       "    }\n",
       "\n",
       "    .dataframe thead th {\n",
       "        text-align: right;\n",
       "    }\n",
       "</style>\n",
       "<table border=\"1\" class=\"dataframe\">\n",
       "  <thead>\n",
       "    <tr style=\"text-align: right;\">\n",
       "      <th></th>\n",
       "      <th>LOC</th>\n",
       "      <th>ORG</th>\n",
       "      <th>PER</th>\n",
       "    </tr>\n",
       "  </thead>\n",
       "  <tbody>\n",
       "    <tr>\n",
       "      <th>train</th>\n",
       "      <td>6186</td>\n",
       "      <td>5366</td>\n",
       "      <td>5810</td>\n",
       "    </tr>\n",
       "    <tr>\n",
       "      <th>validation</th>\n",
       "      <td>3172</td>\n",
       "      <td>2683</td>\n",
       "      <td>2893</td>\n",
       "    </tr>\n",
       "    <tr>\n",
       "      <th>test</th>\n",
       "      <td>3180</td>\n",
       "      <td>2573</td>\n",
       "      <td>3071</td>\n",
       "    </tr>\n",
       "  </tbody>\n",
       "</table>\n",
       "</div>"
      ]
     },
     "execution_count": 42,
     "metadata": {},
     "output_type": "execute_result"
    }
   ],
   "execution_count": 42
  },
  {
   "metadata": {},
   "cell_type": "markdown",
   "source": "##### 4.2 多言語Transformer",
   "id": "906fb815effc3cc1"
  },
  {
   "metadata": {},
   "cell_type": "markdown",
   "source": "SentencePiece VS WordPiece",
   "id": "43965a56c69e8d13"
  },
  {
   "metadata": {
    "ExecuteTime": {
     "end_time": "2025-08-04T22:59:25.236460Z",
     "start_time": "2025-08-04T22:59:12.875543Z"
    }
   },
   "cell_type": "code",
   "source": [
    "from transformers import AutoTokenizer\n",
    "\n",
    "bert_model_name = \"bert-base-cased\"\n",
    "xlmr_model_name = \"xlm-roberta-base\"\n",
    "bert_tokenizer = AutoTokenizer.from_pretrained(bert_model_name)\n",
    "xlmr_tokenizer = AutoTokenizer.from_pretrained(xlmr_model_name)"
   ],
   "id": "8822daea8bd54c78",
   "outputs": [
    {
     "data": {
      "text/plain": [
       "Downloading:   0%|          | 0.00/49.0 [00:00<?, ?B/s]"
      ],
      "application/vnd.jupyter.widget-view+json": {
       "version_major": 2,
       "version_minor": 0,
       "model_id": "98d555fe6fcc42abac2819909fbad408"
      }
     },
     "metadata": {},
     "output_type": "display_data"
    },
    {
     "data": {
      "text/plain": [
       "Downloading:   0%|          | 0.00/570 [00:00<?, ?B/s]"
      ],
      "application/vnd.jupyter.widget-view+json": {
       "version_major": 2,
       "version_minor": 0,
       "model_id": "eea589c478444dcbb69cad5fb9452789"
      }
     },
     "metadata": {},
     "output_type": "display_data"
    },
    {
     "data": {
      "text/plain": [
       "Downloading:   0%|          | 0.00/208k [00:00<?, ?B/s]"
      ],
      "application/vnd.jupyter.widget-view+json": {
       "version_major": 2,
       "version_minor": 0,
       "model_id": "0e73ded7830e4bbd9a5c26d25e13e66d"
      }
     },
     "metadata": {},
     "output_type": "display_data"
    },
    {
     "data": {
      "text/plain": [
       "Downloading:   0%|          | 0.00/426k [00:00<?, ?B/s]"
      ],
      "application/vnd.jupyter.widget-view+json": {
       "version_major": 2,
       "version_minor": 0,
       "model_id": "293c5f1c56fe40b79e9b39ba757ad4c6"
      }
     },
     "metadata": {},
     "output_type": "display_data"
    },
    {
     "data": {
      "text/plain": [
       "Downloading:   0%|          | 0.00/25.0 [00:00<?, ?B/s]"
      ],
      "application/vnd.jupyter.widget-view+json": {
       "version_major": 2,
       "version_minor": 0,
       "model_id": "714fdc16b53541b8a01a0910fafc4d63"
      }
     },
     "metadata": {},
     "output_type": "display_data"
    },
    {
     "data": {
      "text/plain": [
       "Downloading:   0%|          | 0.00/615 [00:00<?, ?B/s]"
      ],
      "application/vnd.jupyter.widget-view+json": {
       "version_major": 2,
       "version_minor": 0,
       "model_id": "a9718dd0365340f48648c4b9d878573b"
      }
     },
     "metadata": {},
     "output_type": "display_data"
    },
    {
     "data": {
      "text/plain": [
       "Downloading:   0%|          | 0.00/4.83M [00:00<?, ?B/s]"
      ],
      "application/vnd.jupyter.widget-view+json": {
       "version_major": 2,
       "version_minor": 0,
       "model_id": "0ac543fd389341e7b3e834eecbb27d8b"
      }
     },
     "metadata": {},
     "output_type": "display_data"
    },
    {
     "data": {
      "text/plain": [
       "Downloading:   0%|          | 0.00/8.68M [00:00<?, ?B/s]"
      ],
      "application/vnd.jupyter.widget-view+json": {
       "version_major": 2,
       "version_minor": 0,
       "model_id": "af7eba16b77542c097d23dfed03d834d"
      }
     },
     "metadata": {},
     "output_type": "display_data"
    },
    {
     "name": "stderr",
     "output_type": "stream",
     "text": [
      "Special tokens have been added in the vocabulary, make sure the associated word embeddings are fine-tuned or trained.\n"
     ]
    }
   ],
   "execution_count": 43
  },
  {
   "metadata": {
    "ExecuteTime": {
     "end_time": "2025-08-04T23:00:43.373099Z",
     "start_time": "2025-08-04T23:00:43.368265Z"
    }
   },
   "cell_type": "code",
   "source": [
    "text = \"Jack Sparrow loves New York!\"\n",
    "bert_tokens = bert_tokenizer(text).tokens()\n",
    "xlmr_tokens = xlmr_tokenizer(text).tokens()\n",
    "print(bert_tokens)\n",
    "print(xlmr_tokens)"
   ],
   "id": "96be23209ec7728e",
   "outputs": [
    {
     "name": "stdout",
     "output_type": "stream",
     "text": [
      "['[CLS]', 'Jack', 'Spa', '##rrow', 'loves', 'New', 'York', '!', '[SEP]']\n",
      "['<s>', '▁Jack', '▁Spar', 'row', '▁love', 's', '▁New', '▁York', '!', '</s>']\n"
     ]
    }
   ],
   "execution_count": 44
  }
 ],
 "metadata": {
  "kernelspec": {
   "display_name": "Python 3",
   "language": "python",
   "name": "python3"
  },
  "language_info": {
   "codemirror_mode": {
    "name": "ipython",
    "version": 2
   },
   "file_extension": ".py",
   "mimetype": "text/x-python",
   "name": "python",
   "nbconvert_exporter": "python",
   "pygments_lexer": "ipython2",
   "version": "2.7.6"
  }
 },
 "nbformat": 4,
 "nbformat_minor": 5
}
