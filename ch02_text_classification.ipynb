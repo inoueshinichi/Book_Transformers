{
 "cells": [
  {
   "metadata": {},
   "cell_type": "markdown",
   "source": "### 2.1 データセット",
   "id": "f28f7b8fdfaa7ebf"
  },
  {
   "metadata": {},
   "cell_type": "markdown",
   "source": "2.1.1 初めてのHugging Face Datasets",
   "id": "9809e7cd1b9259ca"
  },
  {
   "cell_type": "code",
   "id": "initial_id",
   "metadata": {
    "collapsed": true,
    "ExecuteTime": {
     "end_time": "2025-06-16T16:48:58.570205Z",
     "start_time": "2025-06-16T16:48:58.566927Z"
    }
   },
   "source": [
    "# from datasets import list_datasets\n",
    "\n",
    "# all_datasets = list_datasets()\n",
    "# print(f\"There are {len(all_datasets)} datasets currently available on the Hub\")\n",
    "# print(f\"The first 10 are: {all_datasets[:10]}\")\n"
   ],
   "outputs": [],
   "execution_count": 1
  },
  {
   "metadata": {
    "ExecuteTime": {
     "end_time": "2025-06-17T21:12:18.702846Z",
     "start_time": "2025-06-17T21:12:15.721471Z"
    }
   },
   "cell_type": "code",
   "source": "from datasets import load_dataset",
   "id": "f4e2406043d81412",
   "outputs": [],
   "execution_count": 2
  },
  {
   "metadata": {
    "ExecuteTime": {
     "end_time": "2025-06-17T21:12:29.171023Z",
     "start_time": "2025-06-17T21:12:20.290429Z"
    }
   },
   "cell_type": "code",
   "source": [
    "#emotions = load_dataset(\"dair-ai/emotion\")\n",
    "#emotions = load_dataset(\"dair-ai/emotion\", \"unsplit\")\n",
    "emotions = load_dataset(\"dair-ai/emotion\")\n",
    "emotions"
   ],
   "id": "81f23bb3618daa27",
   "outputs": [
    {
     "data": {
      "text/plain": [
       "DatasetDict({\n",
       "    train: Dataset({\n",
       "        features: ['text', 'label'],\n",
       "        num_rows: 16000\n",
       "    })\n",
       "    validation: Dataset({\n",
       "        features: ['text', 'label'],\n",
       "        num_rows: 2000\n",
       "    })\n",
       "    test: Dataset({\n",
       "        features: ['text', 'label'],\n",
       "        num_rows: 2000\n",
       "    })\n",
       "})"
      ]
     },
     "execution_count": 3,
     "metadata": {},
     "output_type": "execute_result"
    }
   ],
   "execution_count": 3
  },
  {
   "metadata": {
    "ExecuteTime": {
     "end_time": "2025-06-17T21:12:41.514799Z",
     "start_time": "2025-06-17T21:12:41.507604Z"
    }
   },
   "cell_type": "code",
   "source": [
    "train_ds = emotions['train']\n",
    "train_ds"
   ],
   "id": "b0e5c8a91e4cf5cc",
   "outputs": [
    {
     "data": {
      "text/plain": [
       "Dataset({\n",
       "    features: ['text', 'label'],\n",
       "    num_rows: 16000\n",
       "})"
      ]
     },
     "execution_count": 4,
     "metadata": {},
     "output_type": "execute_result"
    }
   ],
   "execution_count": 4
  },
  {
   "metadata": {
    "ExecuteTime": {
     "end_time": "2025-06-17T21:12:43.598322Z",
     "start_time": "2025-06-17T21:12:43.588793Z"
    }
   },
   "cell_type": "code",
   "source": "len(train_ds)",
   "id": "fdd2652cf04b3533",
   "outputs": [
    {
     "data": {
      "text/plain": [
       "16000"
      ]
     },
     "execution_count": 5,
     "metadata": {},
     "output_type": "execute_result"
    }
   ],
   "execution_count": 5
  },
  {
   "metadata": {
    "ExecuteTime": {
     "end_time": "2025-06-17T21:12:45.364489Z",
     "start_time": "2025-06-17T21:12:45.357839Z"
    }
   },
   "cell_type": "code",
   "source": "train_ds[0]",
   "id": "71eec7eb5a860ab2",
   "outputs": [
    {
     "data": {
      "text/plain": [
       "{'text': 'i didnt feel humiliated', 'label': 0}"
      ]
     },
     "execution_count": 6,
     "metadata": {},
     "output_type": "execute_result"
    }
   ],
   "execution_count": 6
  },
  {
   "metadata": {
    "ExecuteTime": {
     "end_time": "2025-06-17T21:12:46.235260Z",
     "start_time": "2025-06-17T21:12:46.228125Z"
    }
   },
   "cell_type": "code",
   "source": "train_ds.column_names",
   "id": "1f907dba52ea753e",
   "outputs": [
    {
     "data": {
      "text/plain": [
       "['text', 'label']"
      ]
     },
     "execution_count": 7,
     "metadata": {},
     "output_type": "execute_result"
    }
   ],
   "execution_count": 7
  },
  {
   "metadata": {},
   "cell_type": "markdown",
   "source": [
    "+ DatasetオブジェクトはApacheArrowをベースにしたネイティブPythonよりメモリ効率の良い型付きの列指向形式\n",
    "+ Datasetオブジェクトのfeatures属性にアクセスして内部構造がわかる"
   ],
   "id": "618b35e88065e9ea"
  },
  {
   "metadata": {
    "ExecuteTime": {
     "end_time": "2025-06-17T21:12:48.409298Z",
     "start_time": "2025-06-17T21:12:48.398364Z"
    }
   },
   "cell_type": "code",
   "source": "print(train_ds.features)",
   "id": "ced3f9ae5d033ea9",
   "outputs": [
    {
     "name": "stdout",
     "output_type": "stream",
     "text": [
      "{'text': Value(dtype='string', id=None), 'label': ClassLabel(names=['sadness', 'joy', 'love', 'anger', 'fear', 'surprise'], id=None)}\n"
     ]
    }
   ],
   "execution_count": 8
  },
  {
   "metadata": {
    "ExecuteTime": {
     "end_time": "2025-06-17T21:12:49.790327Z",
     "start_time": "2025-06-17T21:12:49.783483Z"
    }
   },
   "cell_type": "code",
   "source": [
    "# スライスを用いて複数行にアクセス\n",
    "print(train_ds[:5])"
   ],
   "id": "aab12f3ab013cae4",
   "outputs": [
    {
     "name": "stdout",
     "output_type": "stream",
     "text": [
      "{'text': ['i didnt feel humiliated', 'i can go from feeling so hopeless to so damned hopeful just from being around someone who cares and is awake', 'im grabbing a minute to post i feel greedy wrong', 'i am ever feeling nostalgic about the fireplace i will know that it is still on the property', 'i am feeling grouchy'], 'label': [0, 0, 3, 2, 3]}\n"
     ]
    }
   ],
   "execution_count": 9
  },
  {
   "metadata": {
    "ExecuteTime": {
     "end_time": "2025-06-17T21:12:51.597625Z",
     "start_time": "2025-06-17T21:12:51.573577Z"
    }
   },
   "cell_type": "code",
   "source": [
    "# 列名指定\n",
    "print(train_ds['text'][:5])"
   ],
   "id": "5daba23417962815",
   "outputs": [
    {
     "name": "stdout",
     "output_type": "stream",
     "text": [
      "['i didnt feel humiliated', 'i can go from feeling so hopeless to so damned hopeful just from being around someone who cares and is awake', 'im grabbing a minute to post i feel greedy wrong', 'i am ever feeling nostalgic about the fireplace i will know that it is still on the property', 'i am feeling grouchy']\n"
     ]
    }
   ],
   "execution_count": 10
  },
  {
   "metadata": {},
   "cell_type": "markdown",
   "source": "データセットを分割してダウンロードできる",
   "id": "137c96fe1c01037f"
  },
  {
   "metadata": {
    "ExecuteTime": {
     "end_time": "2025-06-16T16:49:09.126952Z",
     "start_time": "2025-06-16T16:49:09.124313Z"
    }
   },
   "cell_type": "code",
   "source": [
    "#dataset_url = \"https://huggingface.co/datasets/transformersbook/emotion-train-split/raw/main/train.txt\"\n",
    "#!wget { dataset_url }"
   ],
   "id": "15bb9caffafc5c9b",
   "outputs": [],
   "execution_count": 11
  },
  {
   "metadata": {
    "ExecuteTime": {
     "end_time": "2025-06-16T16:49:09.145819Z",
     "start_time": "2025-06-16T16:49:09.143820Z"
    }
   },
   "cell_type": "code",
   "source": "#!head -n 1 train.txt",
   "id": "3fde20adee1bc597",
   "outputs": [],
   "execution_count": 12
  },
  {
   "metadata": {
    "ExecuteTime": {
     "end_time": "2025-06-16T16:49:09.187820Z",
     "start_time": "2025-06-16T16:49:09.184870Z"
    }
   },
   "cell_type": "code",
   "source": "#!Get-Content train.txt | Select-Object -First 10",
   "id": "bc46bbcf22623ce0",
   "outputs": [],
   "execution_count": 13
  },
  {
   "metadata": {
    "ExecuteTime": {
     "end_time": "2025-06-16T16:49:09.212905Z",
     "start_time": "2025-06-16T16:49:09.210080Z"
    }
   },
   "cell_type": "code",
   "source": "#emotions_local = load_dataset(\"csv\", data_files=\"train.txt\", sep=\";\", names=[\"text\", \"label\"])",
   "id": "614b5c17f3fb79b0",
   "outputs": [],
   "execution_count": 14
  },
  {
   "metadata": {
    "ExecuteTime": {
     "end_time": "2025-06-16T16:49:09.228148Z",
     "start_time": "2025-06-16T16:49:09.225968Z"
    }
   },
   "cell_type": "code",
   "source": "#emotions_local",
   "id": "6e7abdcf2d3250f8",
   "outputs": [],
   "execution_count": 15
  },
  {
   "metadata": {
    "ExecuteTime": {
     "end_time": "2025-06-17T21:12:54.865248Z",
     "start_time": "2025-06-17T21:12:54.848769Z"
    }
   },
   "cell_type": "code",
   "source": [
    "import pandas as pd\n",
    "\n",
    "emotions.set_format(type=\"pandas\")\n",
    "df = emotions[\"train\"][:]\n",
    "df.head()"
   ],
   "id": "2cf847a594ead551",
   "outputs": [
    {
     "data": {
      "text/plain": [
       "                                                text  label\n",
       "0                            i didnt feel humiliated      0\n",
       "1  i can go from feeling so hopeless to so damned...      0\n",
       "2   im grabbing a minute to post i feel greedy wrong      3\n",
       "3  i am ever feeling nostalgic about the fireplac...      2\n",
       "4                               i am feeling grouchy      3"
      ],
      "text/html": [
       "<div>\n",
       "<style scoped>\n",
       "    .dataframe tbody tr th:only-of-type {\n",
       "        vertical-align: middle;\n",
       "    }\n",
       "\n",
       "    .dataframe tbody tr th {\n",
       "        vertical-align: top;\n",
       "    }\n",
       "\n",
       "    .dataframe thead th {\n",
       "        text-align: right;\n",
       "    }\n",
       "</style>\n",
       "<table border=\"1\" class=\"dataframe\">\n",
       "  <thead>\n",
       "    <tr style=\"text-align: right;\">\n",
       "      <th></th>\n",
       "      <th>text</th>\n",
       "      <th>label</th>\n",
       "    </tr>\n",
       "  </thead>\n",
       "  <tbody>\n",
       "    <tr>\n",
       "      <th>0</th>\n",
       "      <td>i didnt feel humiliated</td>\n",
       "      <td>0</td>\n",
       "    </tr>\n",
       "    <tr>\n",
       "      <th>1</th>\n",
       "      <td>i can go from feeling so hopeless to so damned...</td>\n",
       "      <td>0</td>\n",
       "    </tr>\n",
       "    <tr>\n",
       "      <th>2</th>\n",
       "      <td>im grabbing a minute to post i feel greedy wrong</td>\n",
       "      <td>3</td>\n",
       "    </tr>\n",
       "    <tr>\n",
       "      <th>3</th>\n",
       "      <td>i am ever feeling nostalgic about the fireplac...</td>\n",
       "      <td>2</td>\n",
       "    </tr>\n",
       "    <tr>\n",
       "      <th>4</th>\n",
       "      <td>i am feeling grouchy</td>\n",
       "      <td>3</td>\n",
       "    </tr>\n",
       "  </tbody>\n",
       "</table>\n",
       "</div>"
      ]
     },
     "execution_count": 11,
     "metadata": {},
     "output_type": "execute_result"
    }
   ],
   "execution_count": 11
  },
  {
   "metadata": {
    "ExecuteTime": {
     "end_time": "2025-06-17T21:12:58.118613Z",
     "start_time": "2025-06-17T21:12:57.649043Z"
    }
   },
   "cell_type": "code",
   "source": [
    "def label_int2str(row):\n",
    "    return emotions['train'].features['label'].int2str(row)\n",
    "\n",
    "df['label_name'] = df[\"label\"].apply(label_int2str)\n",
    "df.head()"
   ],
   "id": "56e787f4a20b9f09",
   "outputs": [
    {
     "data": {
      "text/plain": [
       "                                                text  label label_name\n",
       "0                            i didnt feel humiliated      0    sadness\n",
       "1  i can go from feeling so hopeless to so damned...      0    sadness\n",
       "2   im grabbing a minute to post i feel greedy wrong      3      anger\n",
       "3  i am ever feeling nostalgic about the fireplac...      2       love\n",
       "4                               i am feeling grouchy      3      anger"
      ],
      "text/html": [
       "<div>\n",
       "<style scoped>\n",
       "    .dataframe tbody tr th:only-of-type {\n",
       "        vertical-align: middle;\n",
       "    }\n",
       "\n",
       "    .dataframe tbody tr th {\n",
       "        vertical-align: top;\n",
       "    }\n",
       "\n",
       "    .dataframe thead th {\n",
       "        text-align: right;\n",
       "    }\n",
       "</style>\n",
       "<table border=\"1\" class=\"dataframe\">\n",
       "  <thead>\n",
       "    <tr style=\"text-align: right;\">\n",
       "      <th></th>\n",
       "      <th>text</th>\n",
       "      <th>label</th>\n",
       "      <th>label_name</th>\n",
       "    </tr>\n",
       "  </thead>\n",
       "  <tbody>\n",
       "    <tr>\n",
       "      <th>0</th>\n",
       "      <td>i didnt feel humiliated</td>\n",
       "      <td>0</td>\n",
       "      <td>sadness</td>\n",
       "    </tr>\n",
       "    <tr>\n",
       "      <th>1</th>\n",
       "      <td>i can go from feeling so hopeless to so damned...</td>\n",
       "      <td>0</td>\n",
       "      <td>sadness</td>\n",
       "    </tr>\n",
       "    <tr>\n",
       "      <th>2</th>\n",
       "      <td>im grabbing a minute to post i feel greedy wrong</td>\n",
       "      <td>3</td>\n",
       "      <td>anger</td>\n",
       "    </tr>\n",
       "    <tr>\n",
       "      <th>3</th>\n",
       "      <td>i am ever feeling nostalgic about the fireplac...</td>\n",
       "      <td>2</td>\n",
       "      <td>love</td>\n",
       "    </tr>\n",
       "    <tr>\n",
       "      <th>4</th>\n",
       "      <td>i am feeling grouchy</td>\n",
       "      <td>3</td>\n",
       "      <td>anger</td>\n",
       "    </tr>\n",
       "  </tbody>\n",
       "</table>\n",
       "</div>"
      ]
     },
     "execution_count": 12,
     "metadata": {},
     "output_type": "execute_result"
    }
   ],
   "execution_count": 12
  },
  {
   "metadata": {},
   "cell_type": "markdown",
   "source": "データセットのクラス分布",
   "id": "bea420950e8271d8"
  },
  {
   "metadata": {
    "ExecuteTime": {
     "end_time": "2025-06-17T21:13:00.999916Z",
     "start_time": "2025-06-17T21:13:00.009160Z"
    }
   },
   "cell_type": "code",
   "source": [
    "import matplotlib.pyplot as plt\n",
    "\n",
    "df[\"label_name\"].value_counts(ascending=True).plot.barh()\n",
    "plt.title(\"Frequency of classes\")\n",
    "plt.show()"
   ],
   "id": "369aae90868cbd10",
   "outputs": [
    {
     "data": {
      "text/plain": [
       "<Figure size 640x480 with 1 Axes>"
      ],
      "image/png": "[encoded data removed]"
     },
     "metadata": {},
     "output_type": "display_data"
    }
   ],
   "execution_count": 13
  },
  {
   "metadata": {},
   "cell_type": "markdown",
   "source": [
    "データセットのツイートの長さを調べる\n",
    "+ Transformerモデルのトークン長の制限を許容できるか判断するため\n",
    "+ DistilBERTの最大トークン長は512"
   ],
   "id": "f8371c5046a032dd"
  },
  {
   "metadata": {
    "ExecuteTime": {
     "end_time": "2025-06-17T21:13:03.847492Z",
     "start_time": "2025-06-17T21:13:03.649589Z"
    }
   },
   "cell_type": "code",
   "source": [
    "# ツイート毎の単語数の分布を見る\n",
    "df[\"Words Per Tweet\"] = df[\"text\"].str.split().apply(len)\n",
    "df.boxplot(\"Words Per Tweet\", by=\"label_name\", grid=False, showfliers=False, color=\"black\")\n",
    "plt.suptitle(\"\")\n",
    "plt.xlabel(\"\")\n",
    "plt.show() # どのラベルもツイートは15単語程度なのでOK"
   ],
   "id": "76cc9914628c117a",
   "outputs": [
    {
     "data": {
      "text/plain": [
       "<Figure size 640x480 with 1 Axes>"
      ],
      "image/png": "[encoded data removed]"
     },
     "metadata": {},
     "output_type": "display_data"
    }
   ],
   "execution_count": 14
  },
  {
   "metadata": {
    "ExecuteTime": {
     "end_time": "2025-06-17T21:13:06.236116Z",
     "start_time": "2025-06-17T21:13:06.229836Z"
    }
   },
   "cell_type": "code",
   "source": [
    "# データセットの出力形式をリセット\n",
    "emotions.reset_format()"
   ],
   "id": "c6b7e23bc0bfea08",
   "outputs": [],
   "execution_count": 15
  },
  {
   "metadata": {},
   "cell_type": "markdown",
   "source": [
    "### 2.2 テキストからトークンへ\n",
    "+ 文字トークン化(シンプル)\n",
    "+ 単語トークン化\n",
    "+ サブワードトークン化"
   ],
   "id": "f5b9af9426c83176"
  },
  {
   "metadata": {},
   "cell_type": "markdown",
   "source": "#### 2.2.1 文字トークン化",
   "id": "ac14407320c2fe85"
  },
  {
   "metadata": {
    "ExecuteTime": {
     "end_time": "2025-06-17T21:13:25.098873Z",
     "start_time": "2025-06-17T21:13:25.092070Z"
    }
   },
   "cell_type": "code",
   "source": [
    "text = \"Tokenizing text is a core task of NLP.\"\n",
    "tokenized_text = list(text)\n",
    "print(tokenized_text)"
   ],
   "id": "647ee364d7b8753d",
   "outputs": [
    {
     "name": "stdout",
     "output_type": "stream",
     "text": [
      "['T', 'o', 'k', 'e', 'n', 'i', 'z', 'i', 'n', 'g', ' ', 't', 'e', 'x', 't', ' ', 'i', 's', ' ', 'a', ' ', 'c', 'o', 'r', 'e', ' ', 't', 'a', 's', 'k', ' ', 'o', 'f', ' ', 'N', 'L', 'P', '.']\n"
     ]
    }
   ],
   "execution_count": 17
  },
  {
   "metadata": {
    "ExecuteTime": {
     "end_time": "2025-06-16T16:49:10.588767Z",
     "start_time": "2025-06-16T16:49:10.585383Z"
    }
   },
   "cell_type": "code",
   "source": [
    "# 一意なトークンを一意な整数にエンコード\n",
    "token2idx = {ch: idx for idx, ch in enumerate(sorted(set(tokenized_text)))}\n",
    "print(token2idx)"
   ],
   "id": "4746b3fc79aff7bb",
   "outputs": [
    {
     "name": "stdout",
     "output_type": "stream",
     "text": [
      "{' ': 0, '.': 1, 'L': 2, 'N': 3, 'P': 4, 'T': 5, 'a': 6, 'c': 7, 'e': 8, 'f': 9, 'g': 10, 'i': 11, 'k': 12, 'n': 13, 'o': 14, 'r': 15, 's': 16, 't': 17, 'x': 18, 'z': 19}\n"
     ]
    }
   ],
   "execution_count": 22
  },
  {
   "metadata": {
    "ExecuteTime": {
     "end_time": "2025-06-16T16:49:10.654108Z",
     "start_time": "2025-06-16T16:49:10.651329Z"
    }
   },
   "cell_type": "code",
   "source": [
    "# トークンマップを用いてテキストのトークン列を整数に変換\n",
    "input_ids = [token2idx[token] for token in tokenized_text]\n",
    "print(input_ids)"
   ],
   "id": "b9cb9286b17fcedf",
   "outputs": [
    {
     "name": "stdout",
     "output_type": "stream",
     "text": [
      "[5, 14, 12, 8, 13, 11, 19, 11, 13, 10, 0, 17, 8, 18, 17, 0, 11, 16, 0, 6, 0, 7, 14, 15, 8, 0, 17, 6, 16, 12, 0, 14, 9, 0, 3, 2, 4, 1]\n"
     ]
    }
   ],
   "execution_count": 23
  },
  {
   "metadata": {},
   "cell_type": "markdown",
   "source": "+ 2つのID(数値)を足し引きして結果のIDが全く意味合いが異なるIDになってはいけない",
   "id": "fb433ad9bd126c9d"
  },
  {
   "metadata": {
    "ExecuteTime": {
     "end_time": "2025-06-16T16:49:10.732280Z",
     "start_time": "2025-06-16T16:49:10.726610Z"
    }
   },
   "cell_type": "code",
   "source": [
    "categorical_df = pd.DataFrame({\"Name\": [\"Bumblebee\", \"Optimus Prime\", \"Megatron\"], \"Label ID\": [0, 1, 2]})\n",
    "categorical_df"
   ],
   "id": "3d0d7942cabbbdae",
   "outputs": [
    {
     "data": {
      "text/plain": [
       "            Name  Label ID\n",
       "0      Bumblebee         0\n",
       "1  Optimus Prime         1\n",
       "2       Megatron         2"
      ],
      "text/html": [
       "<div>\n",
       "<style scoped>\n",
       "    .dataframe tbody tr th:only-of-type {\n",
       "        vertical-align: middle;\n",
       "    }\n",
       "\n",
       "    .dataframe tbody tr th {\n",
       "        vertical-align: top;\n",
       "    }\n",
       "\n",
       "    .dataframe thead th {\n",
       "        text-align: right;\n",
       "    }\n",
       "</style>\n",
       "<table border=\"1\" class=\"dataframe\">\n",
       "  <thead>\n",
       "    <tr style=\"text-align: right;\">\n",
       "      <th></th>\n",
       "      <th>Name</th>\n",
       "      <th>Label ID</th>\n",
       "    </tr>\n",
       "  </thead>\n",
       "  <tbody>\n",
       "    <tr>\n",
       "      <th>0</th>\n",
       "      <td>Bumblebee</td>\n",
       "      <td>0</td>\n",
       "    </tr>\n",
       "    <tr>\n",
       "      <th>1</th>\n",
       "      <td>Optimus Prime</td>\n",
       "      <td>1</td>\n",
       "    </tr>\n",
       "    <tr>\n",
       "      <th>2</th>\n",
       "      <td>Megatron</td>\n",
       "      <td>2</td>\n",
       "    </tr>\n",
       "  </tbody>\n",
       "</table>\n",
       "</div>"
      ]
     },
     "execution_count": 24,
     "metadata": {},
     "output_type": "execute_result"
    }
   ],
   "execution_count": 24
  },
  {
   "metadata": {
    "ExecuteTime": {
     "end_time": "2025-06-16T16:49:10.792110Z",
     "start_time": "2025-06-16T16:49:10.786721Z"
    }
   },
   "cell_type": "code",
   "source": "pd.get_dummies(categorical_df[\"Name\"])",
   "id": "15f13fe30ea2526e",
   "outputs": [
    {
     "data": {
      "text/plain": [
       "   Bumblebee  Megatron  Optimus Prime\n",
       "0       True     False          False\n",
       "1      False     False           True\n",
       "2      False      True          False"
      ],
      "text/html": [
       "<div>\n",
       "<style scoped>\n",
       "    .dataframe tbody tr th:only-of-type {\n",
       "        vertical-align: middle;\n",
       "    }\n",
       "\n",
       "    .dataframe tbody tr th {\n",
       "        vertical-align: top;\n",
       "    }\n",
       "\n",
       "    .dataframe thead th {\n",
       "        text-align: right;\n",
       "    }\n",
       "</style>\n",
       "<table border=\"1\" class=\"dataframe\">\n",
       "  <thead>\n",
       "    <tr style=\"text-align: right;\">\n",
       "      <th></th>\n",
       "      <th>Bumblebee</th>\n",
       "      <th>Megatron</th>\n",
       "      <th>Optimus Prime</th>\n",
       "    </tr>\n",
       "  </thead>\n",
       "  <tbody>\n",
       "    <tr>\n",
       "      <th>0</th>\n",
       "      <td>True</td>\n",
       "      <td>False</td>\n",
       "      <td>False</td>\n",
       "    </tr>\n",
       "    <tr>\n",
       "      <th>1</th>\n",
       "      <td>False</td>\n",
       "      <td>False</td>\n",
       "      <td>True</td>\n",
       "    </tr>\n",
       "    <tr>\n",
       "      <th>2</th>\n",
       "      <td>False</td>\n",
       "      <td>True</td>\n",
       "      <td>False</td>\n",
       "    </tr>\n",
       "  </tbody>\n",
       "</table>\n",
       "</div>"
      ]
     },
     "execution_count": 25,
     "metadata": {},
     "output_type": "execute_result"
    }
   ],
   "execution_count": 25
  },
  {
   "metadata": {
    "ExecuteTime": {
     "end_time": "2025-06-17T21:15:04.177584Z",
     "start_time": "2025-06-17T21:14:57.711579Z"
    }
   },
   "cell_type": "code",
   "source": [
    "import torch\n",
    "import torch.nn.functional as F\n",
    "\n",
    "input_ids = torch.tensor(input_ids)\n",
    "one_hot_encodings = F.one_hot(input_ids, num_classes=len(token2idx))\n",
    "one_hot_encodings"
   ],
   "id": "f131d5f210d0ce78",
   "outputs": [
    {
     "ename": "NameError",
     "evalue": "name 'input_ids' is not defined",
     "output_type": "error",
     "traceback": [
      "\u001B[31m---------------------------------------------------------------------------\u001B[39m",
      "\u001B[31mNameError\u001B[39m                                 Traceback (most recent call last)",
      "\u001B[36mCell\u001B[39m\u001B[36m \u001B[39m\u001B[32mIn[34]\u001B[39m\u001B[32m, line 4\u001B[39m\n\u001B[32m      1\u001B[39m \u001B[38;5;28;01mimport\u001B[39;00m\u001B[38;5;250m \u001B[39m\u001B[34;01mtorch\u001B[39;00m\n\u001B[32m      2\u001B[39m \u001B[38;5;28;01mimport\u001B[39;00m\u001B[38;5;250m \u001B[39m\u001B[34;01mtorch\u001B[39;00m\u001B[34;01m.\u001B[39;00m\u001B[34;01mnn\u001B[39;00m\u001B[34;01m.\u001B[39;00m\u001B[34;01mfunctional\u001B[39;00m\u001B[38;5;250m \u001B[39m\u001B[38;5;28;01mas\u001B[39;00m\u001B[38;5;250m \u001B[39m\u001B[34;01mF\u001B[39;00m\n\u001B[32m----> \u001B[39m\u001B[32m4\u001B[39m input_ids = torch.tensor(input_ids)\n\u001B[32m      5\u001B[39m one_hot_encodings = F.one_hot(input_ids, num_classes=\u001B[38;5;28mlen\u001B[39m(token2idx))\n\u001B[32m      6\u001B[39m one_hot_encodings\n",
      "\u001B[31mNameError\u001B[39m: name 'input_ids' is not defined"
     ]
    }
   ],
   "execution_count": 34
  },
  {
   "metadata": {
    "ExecuteTime": {
     "end_time": "2025-06-16T16:49:15.347475Z",
     "start_time": "2025-06-16T16:49:15.343912Z"
    }
   },
   "cell_type": "code",
   "source": "one_hot_encodings.shape",
   "id": "b1ae1e031b3ba524",
   "outputs": [
    {
     "data": {
      "text/plain": [
       "torch.Size([38, 20])"
      ]
     },
     "execution_count": 27,
     "metadata": {},
     "output_type": "execute_result"
    }
   ],
   "execution_count": 27
  },
  {
   "metadata": {
    "ExecuteTime": {
     "end_time": "2025-06-16T16:49:15.405708Z",
     "start_time": "2025-06-16T16:49:15.401702Z"
    }
   },
   "cell_type": "code",
   "source": [
    "print(f\"Token: {tokenized_text[0]}\")\n",
    "print(f\"Tensor index: {input_ids[0]}\")\n",
    "print(f\"One-hot: {one_hot_encodings[0]}\")"
   ],
   "id": "a029d86fbf9928e4",
   "outputs": [
    {
     "name": "stdout",
     "output_type": "stream",
     "text": [
      "Token: T\n",
      "Tensor index: 5\n",
      "One-hot: tensor([0, 0, 0, 0, 0, 1, 0, 0, 0, 0, 0, 0, 0, 0, 0, 0, 0, 0, 0, 0])\n"
     ]
    }
   ],
   "execution_count": 28
  },
  {
   "metadata": {},
   "cell_type": "markdown",
   "source": "#### 2.2.2 単語トークン化",
   "id": "89fcb38a819f6420"
  },
  {
   "metadata": {
    "ExecuteTime": {
     "end_time": "2025-06-17T21:13:28.699961Z",
     "start_time": "2025-06-17T21:13:28.692242Z"
    }
   },
   "cell_type": "code",
   "source": [
    "print(text)\n",
    "tokenized_text = text.split()\n",
    "print(tokenized_text)"
   ],
   "id": "cd92d1d5518b74f2",
   "outputs": [
    {
     "name": "stdout",
     "output_type": "stream",
     "text": [
      "Tokenizing text is a core task of NLP.\n",
      "['Tokenizing', 'text', 'is', 'a', 'core', 'task', 'of', 'NLP.']\n"
     ]
    }
   ],
   "execution_count": 18
  },
  {
   "metadata": {},
   "cell_type": "markdown",
   "source": [
    "+ 単語トークン化の弱点は, 100万語を1000次元に圧縮する行列Wを用いたとして、これだけで10億パラメータが必要になる。\n",
    "+ 稀な単語は捨てたり、<UNK>トークンにしたりするが、情報が欠落してしまう欠点がある。"
   ],
   "id": "3f3359f14f77ac88"
  },
  {
   "metadata": {},
   "cell_type": "markdown",
   "source": [
    "#### サブワードトークン化\n",
    "+ 統計的ルールとアルゴリズムを組み合わせて、事前学習用のコーパスかえらトークン化を学習すること"
   ],
   "id": "2bd7d42fd447e8eb"
  },
  {
   "metadata": {},
   "cell_type": "markdown",
   "source": "BERTとDistilBERTで利用されている**WordPiece**トークナイザー",
   "id": "ceb1601ac8af3738"
  },
  {
   "metadata": {
    "ExecuteTime": {
     "end_time": "2025-06-17T21:13:36.009365Z",
     "start_time": "2025-06-17T21:13:32.642783Z"
    }
   },
   "cell_type": "code",
   "source": [
    "from transformers import AutoTokenizer\n",
    "\n",
    "model_ckpt = \"distilbert-base-uncased\"\n",
    "tokenizer = AutoTokenizer.from_pretrained(model_ckpt)"
   ],
   "id": "73a63d023fddf364",
   "outputs": [],
   "execution_count": 19
  },
  {
   "metadata": {
    "ExecuteTime": {
     "end_time": "2025-06-16T16:49:20.019827Z",
     "start_time": "2025-06-16T16:49:20.017762Z"
    }
   },
   "cell_type": "code",
   "source": [
    "# from transformers import DistilBertTokenizer\n",
    "# distilbert_tokenizer = DistilBertTokenizer.from_pretrained(model_ckpt)"
   ],
   "id": "4a75eb1c8a9344a6",
   "outputs": [],
   "execution_count": 31
  },
  {
   "metadata": {
    "ExecuteTime": {
     "end_time": "2025-06-17T21:13:50.766217Z",
     "start_time": "2025-06-17T21:13:50.754682Z"
    }
   },
   "cell_type": "code",
   "source": [
    "print(text)\n",
    "encoded_text = tokenizer(text)\n",
    "print(encoded_text)"
   ],
   "id": "57775100d30d1dcd",
   "outputs": [
    {
     "name": "stdout",
     "output_type": "stream",
     "text": [
      "Tokenizing text is a core task of NLP.\n",
      "{'input_ids': [101, 19204, 6026, 3793, 2003, 1037, 4563, 4708, 1997, 17953, 2361, 1012, 102], 'attention_mask': [1, 1, 1, 1, 1, 1, 1, 1, 1, 1, 1, 1, 1]}\n"
     ]
    }
   ],
   "execution_count": 20
  },
  {
   "metadata": {
    "ExecuteTime": {
     "end_time": "2025-06-17T21:13:52.760789Z",
     "start_time": "2025-06-17T21:13:52.754596Z"
    }
   },
   "cell_type": "code",
   "source": [
    "tokens = tokenizer.convert_ids_to_tokens(encoded_text.input_ids)\n",
    "print(tokens)"
   ],
   "id": "1b551ae029f1b55b",
   "outputs": [
    {
     "name": "stdout",
     "output_type": "stream",
     "text": [
      "['[CLS]', 'token', '##izing', 'text', 'is', 'a', 'core', 'task', 'of', 'nl', '##p', '.', '[SEP]']\n"
     ]
    }
   ],
   "execution_count": 21
  },
  {
   "metadata": {
    "ExecuteTime": {
     "end_time": "2025-06-17T21:13:53.710406Z",
     "start_time": "2025-06-17T21:13:53.705681Z"
    }
   },
   "cell_type": "code",
   "source": "print(tokenizer.convert_tokens_to_string(tokens))",
   "id": "349216a5e60239bc",
   "outputs": [
    {
     "name": "stdout",
     "output_type": "stream",
     "text": [
      "[CLS] tokenizing text is a core task of nlp. [SEP]\n"
     ]
    }
   ],
   "execution_count": 22
  },
  {
   "metadata": {
    "ExecuteTime": {
     "end_time": "2025-06-17T21:13:55.766765Z",
     "start_time": "2025-06-17T21:13:55.760202Z"
    }
   },
   "cell_type": "code",
   "source": [
    "# AutoTokenizerクラスはトークナイザーに関する情報を持つ\n",
    "tokenizer.vocab_size # 語彙数"
   ],
   "id": "7d96b8e9f69ed8bf",
   "outputs": [
    {
     "data": {
      "text/plain": [
       "30522"
      ]
     },
     "execution_count": 23,
     "metadata": {},
     "output_type": "execute_result"
    }
   ],
   "execution_count": 23
  },
  {
   "metadata": {
    "ExecuteTime": {
     "end_time": "2025-06-17T21:13:57.245737Z",
     "start_time": "2025-06-17T21:13:57.235105Z"
    }
   },
   "cell_type": "code",
   "source": "tokenizer.model_max_length # モデルの最大コンテキストサイズ",
   "id": "30a42feb6960397c",
   "outputs": [
    {
     "data": {
      "text/plain": [
       "512"
      ]
     },
     "execution_count": 24,
     "metadata": {},
     "output_type": "execute_result"
    }
   ],
   "execution_count": 24
  },
  {
   "metadata": {
    "ExecuteTime": {
     "end_time": "2025-06-17T21:13:58.136796Z",
     "start_time": "2025-06-17T21:13:58.125148Z"
    }
   },
   "cell_type": "code",
   "source": [
    "# モデルが期待する入力変数の名前\n",
    "tokenizer.model_input_names"
   ],
   "id": "2498da1eecd307f8",
   "outputs": [
    {
     "data": {
      "text/plain": [
       "['input_ids', 'attention_mask']"
      ]
     },
     "execution_count": 25,
     "metadata": {},
     "output_type": "execute_result"
    }
   ],
   "execution_count": 25
  },
  {
   "metadata": {},
   "cell_type": "markdown",
   "source": "2.2.4 データセット全体のトークン化",
   "id": "e2072529eaa5bd78"
  },
  {
   "metadata": {
    "ExecuteTime": {
     "end_time": "2025-06-17T21:13:59.445945Z",
     "start_time": "2025-06-17T21:13:59.435313Z"
    }
   },
   "cell_type": "code",
   "source": [
    "def tokenize(batch):\n",
    "    return tokenizer(batch['text'], padding=True, truncation=True)"
   ],
   "id": "e622b9a2a9ce137d",
   "outputs": [],
   "execution_count": 26
  },
  {
   "metadata": {
    "ExecuteTime": {
     "end_time": "2025-06-17T21:14:01.902042Z",
     "start_time": "2025-06-17T21:14:01.895899Z"
    }
   },
   "cell_type": "code",
   "source": [
    "print(tokenize(emotions['train'][0]))\n",
    "print(tokenize(emotions['train'][1]))\n"
   ],
   "id": "9c6f36c7c555de24",
   "outputs": [
    {
     "name": "stdout",
     "output_type": "stream",
     "text": [
      "{'input_ids': [101, 1045, 2134, 2102, 2514, 26608, 102], 'attention_mask': [1, 1, 1, 1, 1, 1, 1]}\n",
      "{'input_ids': [101, 1045, 2064, 2175, 2013, 3110, 2061, 20625, 2000, 2061, 9636, 17772, 2074, 2013, 2108, 2105, 2619, 2040, 14977, 1998, 2003, 8300, 102], 'attention_mask': [1, 1, 1, 1, 1, 1, 1, 1, 1, 1, 1, 1, 1, 1, 1, 1, 1, 1, 1, 1, 1, 1, 1]}\n"
     ]
    }
   ],
   "execution_count": 27
  },
  {
   "metadata": {
    "ExecuteTime": {
     "end_time": "2025-06-17T21:14:06.222779Z",
     "start_time": "2025-06-17T21:14:06.216213Z"
    }
   },
   "cell_type": "code",
   "source": [
    "# 複数のデータセットを入力しないとpaddingしない\n",
    "print(tokenize(emotions['train'][:2]))"
   ],
   "id": "df64076e050e585f",
   "outputs": [
    {
     "name": "stdout",
     "output_type": "stream",
     "text": [
      "{'input_ids': [[101, 1045, 2134, 2102, 2514, 26608, 102, 0, 0, 0, 0, 0, 0, 0, 0, 0, 0, 0, 0, 0, 0, 0, 0], [101, 1045, 2064, 2175, 2013, 3110, 2061, 20625, 2000, 2061, 9636, 17772, 2074, 2013, 2108, 2105, 2619, 2040, 14977, 1998, 2003, 8300, 102]], 'attention_mask': [[1, 1, 1, 1, 1, 1, 1, 0, 0, 0, 0, 0, 0, 0, 0, 0, 0, 0, 0, 0, 0, 0, 0], [1, 1, 1, 1, 1, 1, 1, 1, 1, 1, 1, 1, 1, 1, 1, 1, 1, 1, 1, 1, 1, 1, 1]]}\n"
     ]
    }
   ],
   "execution_count": 28
  },
  {
   "metadata": {
    "ExecuteTime": {
     "end_time": "2025-06-17T21:14:08.661624Z",
     "start_time": "2025-06-17T21:14:08.646597Z"
    }
   },
   "cell_type": "code",
   "source": [
    "specified_tokens_df = pd.DataFrame({\n",
    "    'Special Token': ['[PAD]', '[UNK]', '[CLS]', '[SEP]', '[MASK]'],\n",
    "    'Special Token Id': [0, 100, 101, 102, 103]\n",
    "}).transpose()\n",
    "specified_tokens_df"
   ],
   "id": "b4cdd0b95f3862cf",
   "outputs": [
    {
     "data": {
      "text/plain": [
       "                      0      1      2      3       4\n",
       "Special Token     [PAD]  [UNK]  [CLS]  [SEP]  [MASK]\n",
       "Special Token Id      0    100    101    102     103"
      ],
      "text/html": [
       "<div>\n",
       "<style scoped>\n",
       "    .dataframe tbody tr th:only-of-type {\n",
       "        vertical-align: middle;\n",
       "    }\n",
       "\n",
       "    .dataframe tbody tr th {\n",
       "        vertical-align: top;\n",
       "    }\n",
       "\n",
       "    .dataframe thead th {\n",
       "        text-align: right;\n",
       "    }\n",
       "</style>\n",
       "<table border=\"1\" class=\"dataframe\">\n",
       "  <thead>\n",
       "    <tr style=\"text-align: right;\">\n",
       "      <th></th>\n",
       "      <th>0</th>\n",
       "      <th>1</th>\n",
       "      <th>2</th>\n",
       "      <th>3</th>\n",
       "      <th>4</th>\n",
       "    </tr>\n",
       "  </thead>\n",
       "  <tbody>\n",
       "    <tr>\n",
       "      <th>Special Token</th>\n",
       "      <td>[PAD]</td>\n",
       "      <td>[UNK]</td>\n",
       "      <td>[CLS]</td>\n",
       "      <td>[SEP]</td>\n",
       "      <td>[MASK]</td>\n",
       "    </tr>\n",
       "    <tr>\n",
       "      <th>Special Token Id</th>\n",
       "      <td>0</td>\n",
       "      <td>100</td>\n",
       "      <td>101</td>\n",
       "      <td>102</td>\n",
       "      <td>103</td>\n",
       "    </tr>\n",
       "  </tbody>\n",
       "</table>\n",
       "</div>"
      ]
     },
     "execution_count": 29,
     "metadata": {},
     "output_type": "execute_result"
    }
   ],
   "execution_count": 29
  },
  {
   "metadata": {
    "ExecuteTime": {
     "end_time": "2025-06-17T21:14:19.665214Z",
     "start_time": "2025-06-17T21:14:19.657507Z"
    }
   },
   "cell_type": "code",
   "source": "emotions",
   "id": "f94a5d8e64eacd7b",
   "outputs": [
    {
     "data": {
      "text/plain": [
       "DatasetDict({\n",
       "    train: Dataset({\n",
       "        features: ['text', 'label'],\n",
       "        num_rows: 16000\n",
       "    })\n",
       "    validation: Dataset({\n",
       "        features: ['text', 'label'],\n",
       "        num_rows: 2000\n",
       "    })\n",
       "    test: Dataset({\n",
       "        features: ['text', 'label'],\n",
       "        num_rows: 2000\n",
       "    })\n",
       "})"
      ]
     },
     "execution_count": 30,
     "metadata": {},
     "output_type": "execute_result"
    }
   ],
   "execution_count": 30
  },
  {
   "metadata": {
    "ExecuteTime": {
     "end_time": "2025-06-17T21:14:23.553018Z",
     "start_time": "2025-06-17T21:14:23.498138Z"
    }
   },
   "cell_type": "code",
   "source": [
    "# データセット'train', 'validation', 'test'に対してtokenizeを処理する\n",
    "emotions_encoded = emotions.map(tokenize, batched=True, batch_size=None)"
   ],
   "id": "950367a4d4f07dfd",
   "outputs": [],
   "execution_count": 31
  },
  {
   "metadata": {
    "ExecuteTime": {
     "end_time": "2025-06-17T21:14:26.768510Z",
     "start_time": "2025-06-17T21:14:26.763479Z"
    }
   },
   "cell_type": "code",
   "source": "print(emotions_encoded['train'].column_names)",
   "id": "331f086d8b2cb06a",
   "outputs": [
    {
     "name": "stdout",
     "output_type": "stream",
     "text": [
      "['text', 'label', 'input_ids', 'attention_mask']\n"
     ]
    }
   ],
   "execution_count": 32
  },
  {
   "metadata": {
    "ExecuteTime": {
     "end_time": "2025-06-16T16:49:21.051172Z",
     "start_time": "2025-06-16T16:49:21.045739Z"
    }
   },
   "cell_type": "code",
   "source": "emotions_encoded['train'][0]",
   "id": "e3a954857342d9d1",
   "outputs": [
    {
     "data": {
      "text/plain": [
       "{'text': 'i didnt feel humiliated',\n",
       " 'label': 0,\n",
       " 'input_ids': [101,\n",
       "  1045,\n",
       "  2134,\n",
       "  2102,\n",
       "  2514,\n",
       "  26608,\n",
       "  102,\n",
       "  0,\n",
       "  0,\n",
       "  0,\n",
       "  0,\n",
       "  0,\n",
       "  0,\n",
       "  0,\n",
       "  0,\n",
       "  0,\n",
       "  0,\n",
       "  0,\n",
       "  0,\n",
       "  0,\n",
       "  0,\n",
       "  0,\n",
       "  0,\n",
       "  0,\n",
       "  0,\n",
       "  0,\n",
       "  0,\n",
       "  0,\n",
       "  0,\n",
       "  0,\n",
       "  0,\n",
       "  0,\n",
       "  0,\n",
       "  0,\n",
       "  0,\n",
       "  0,\n",
       "  0,\n",
       "  0,\n",
       "  0,\n",
       "  0,\n",
       "  0,\n",
       "  0,\n",
       "  0,\n",
       "  0,\n",
       "  0,\n",
       "  0,\n",
       "  0,\n",
       "  0,\n",
       "  0,\n",
       "  0,\n",
       "  0,\n",
       "  0,\n",
       "  0,\n",
       "  0,\n",
       "  0,\n",
       "  0,\n",
       "  0,\n",
       "  0,\n",
       "  0,\n",
       "  0,\n",
       "  0,\n",
       "  0,\n",
       "  0,\n",
       "  0,\n",
       "  0,\n",
       "  0,\n",
       "  0,\n",
       "  0,\n",
       "  0,\n",
       "  0,\n",
       "  0,\n",
       "  0,\n",
       "  0,\n",
       "  0,\n",
       "  0,\n",
       "  0,\n",
       "  0,\n",
       "  0,\n",
       "  0,\n",
       "  0,\n",
       "  0,\n",
       "  0,\n",
       "  0,\n",
       "  0,\n",
       "  0,\n",
       "  0,\n",
       "  0],\n",
       " 'attention_mask': [1,\n",
       "  1,\n",
       "  1,\n",
       "  1,\n",
       "  1,\n",
       "  1,\n",
       "  1,\n",
       "  0,\n",
       "  0,\n",
       "  0,\n",
       "  0,\n",
       "  0,\n",
       "  0,\n",
       "  0,\n",
       "  0,\n",
       "  0,\n",
       "  0,\n",
       "  0,\n",
       "  0,\n",
       "  0,\n",
       "  0,\n",
       "  0,\n",
       "  0,\n",
       "  0,\n",
       "  0,\n",
       "  0,\n",
       "  0,\n",
       "  0,\n",
       "  0,\n",
       "  0,\n",
       "  0,\n",
       "  0,\n",
       "  0,\n",
       "  0,\n",
       "  0,\n",
       "  0,\n",
       "  0,\n",
       "  0,\n",
       "  0,\n",
       "  0,\n",
       "  0,\n",
       "  0,\n",
       "  0,\n",
       "  0,\n",
       "  0,\n",
       "  0,\n",
       "  0,\n",
       "  0,\n",
       "  0,\n",
       "  0,\n",
       "  0,\n",
       "  0,\n",
       "  0,\n",
       "  0,\n",
       "  0,\n",
       "  0,\n",
       "  0,\n",
       "  0,\n",
       "  0,\n",
       "  0,\n",
       "  0,\n",
       "  0,\n",
       "  0,\n",
       "  0,\n",
       "  0,\n",
       "  0,\n",
       "  0,\n",
       "  0,\n",
       "  0,\n",
       "  0,\n",
       "  0,\n",
       "  0,\n",
       "  0,\n",
       "  0,\n",
       "  0,\n",
       "  0,\n",
       "  0,\n",
       "  0,\n",
       "  0,\n",
       "  0,\n",
       "  0,\n",
       "  0,\n",
       "  0,\n",
       "  0,\n",
       "  0,\n",
       "  0,\n",
       "  0]}"
      ]
     },
     "execution_count": 45,
     "metadata": {},
     "output_type": "execute_result"
    }
   ],
   "execution_count": 45
  },
  {
   "metadata": {},
   "cell_type": "markdown",
   "source": "#### 2.3.1 特徴抽出器としてのTransformer",
   "id": "b4dd6d76315d416c"
  },
  {
   "metadata": {
    "ExecuteTime": {
     "end_time": "2025-06-17T21:15:24.915409Z",
     "start_time": "2025-06-17T21:15:23.444231Z"
    }
   },
   "cell_type": "code",
   "source": [
    "from transformers import AutoModel\n",
    "\n",
    "model_ckpt = \"distilbert-base-uncased\"\n",
    "device = torch.device(\"cuda\" if torch.cuda.is_available() else \"cpu\")\n",
    "model = AutoModel.from_pretrained(model_ckpt).to(device) # AutoModelクラスはトークンエンコーディングを埋め込みに変換し、エンコーダスタックを経由して隠れ状態を返す。"
   ],
   "id": "ea0c8f56d84c9e97",
   "outputs": [
    {
     "name": "stderr",
     "output_type": "stream",
     "text": [
      "C:\\Users\\InoueShinichi\\.conda\\envs\\Book_Transformers\\Lib\\site-packages\\transformers\\modeling_utils.py:1435: FutureWarning: You are using `torch.load` with `weights_only=False` (the current default value), which uses the default pickle module implicitly. It is possible to construct malicious pickle data which will execute arbitrary code during unpickling (See https://github.com/pytorch/pytorch/blob/main/SECURITY.md#untrusted-models for more details). In a future release, the default value for `weights_only` will be flipped to `True`. This limits the functions that could be executed during unpickling. Arbitrary objects will no longer be allowed to be loaded via this mode unless they are explicitly allowlisted by the user via `torch.serialization.add_safe_globals`. We recommend you start setting `weights_only=True` for any use case where you don't have full control of the loaded file. Please open an issue on GitHub for any issues related to this experimental feature.\n",
      "  state_dict = torch.load(resolved_archive_file, map_location=\"cpu\")\n",
      "Some weights of the model checkpoint at distilbert-base-uncased were not used when initializing DistilBertModel: ['vocab_projector.bias', 'vocab_layer_norm.weight', 'vocab_transform.bias', 'vocab_layer_norm.bias', 'vocab_projector.weight', 'vocab_transform.weight']\n",
      "- This IS expected if you are initializing DistilBertModel from the checkpoint of a model trained on another task or with another architecture (e.g. initializing a BertForSequenceClassification model from a BertForPreTraining model).\n",
      "- This IS NOT expected if you are initializing DistilBertModel from the checkpoint of a model that you expect to be exactly identical (initializing a BertForSequenceClassification model from a BertForSequenceClassification model).\n"
     ]
    }
   ],
   "execution_count": 35
  },
  {
   "metadata": {},
   "cell_type": "markdown",
   "source": "2.3.1.2 最後の隠れ状態の抽出",
   "id": "5f73a0c170d3d8fe"
  },
  {
   "metadata": {
    "ExecuteTime": {
     "end_time": "2025-06-17T21:15:31.585154Z",
     "start_time": "2025-06-17T21:15:31.564939Z"
    }
   },
   "cell_type": "code",
   "source": [
    "text = \"this is a test\"\n",
    "inputs = tokenizer(text, return_tensors=\"pt\")\n",
    "print(f\"Input tensor shape: {inputs['input_ids'].size()}\") # [batch_size, n_tokens]"
   ],
   "id": "8eac82cddfe0c7db",
   "outputs": [
    {
     "name": "stdout",
     "output_type": "stream",
     "text": [
      "Input tensor shape: torch.Size([1, 6])\n"
     ]
    }
   ],
   "execution_count": 36
  },
  {
   "metadata": {
    "ExecuteTime": {
     "end_time": "2025-06-17T21:15:37.982657Z",
     "start_time": "2025-06-17T21:15:37.395667Z"
    }
   },
   "cell_type": "code",
   "source": [
    "inputs = {k:v.to(device) for k,v in inputs.items()}\n",
    "with torch.no_grad():\n",
    "    outputs = model(**inputs)\n",
    "print(outputs)"
   ],
   "id": "41220d04c4195e60",
   "outputs": [
    {
     "name": "stdout",
     "output_type": "stream",
     "text": [
      "BaseModelOutput(last_hidden_state=tensor([[[-0.1565, -0.1862,  0.0528,  ..., -0.1188,  0.0662,  0.5470],\n",
      "         [-0.3575, -0.6484, -0.0618,  ..., -0.3040,  0.3508,  0.5221],\n",
      "         [-0.2772, -0.4459,  0.1818,  ..., -0.0948, -0.0076,  0.9958],\n",
      "         [-0.2841, -0.3917,  0.3753,  ..., -0.2151, -0.1173,  1.0526],\n",
      "         [ 0.2661, -0.5094, -0.3180,  ..., -0.4203,  0.0144, -0.2149],\n",
      "         [ 0.9441,  0.0112, -0.4714,  ...,  0.1439, -0.7288, -0.1619]]],\n",
      "       device='cuda:0'), hidden_states=None, attentions=None)\n"
     ]
    }
   ],
   "execution_count": 37
  },
  {
   "metadata": {
    "ExecuteTime": {
     "end_time": "2025-06-17T21:15:41.616993Z",
     "start_time": "2025-06-17T21:15:41.609690Z"
    }
   },
   "cell_type": "code",
   "source": "outputs.last_hidden_state.size() # [batch_size, token_size, dim]",
   "id": "b3695dce80be1b3a",
   "outputs": [
    {
     "data": {
      "text/plain": [
       "torch.Size([1, 6, 768])"
      ]
     },
     "execution_count": 38,
     "metadata": {},
     "output_type": "execute_result"
    }
   ],
   "execution_count": 38
  },
  {
   "metadata": {
    "ExecuteTime": {
     "end_time": "2025-06-17T21:15:44.013820Z",
     "start_time": "2025-06-17T21:15:44.006061Z"
    }
   },
   "cell_type": "code",
   "source": [
    "# [CLS]トークンに相当する隠れ状態だけ取り出す\n",
    "outputs.last_hidden_state[:, 0].size()"
   ],
   "id": "6ef628311de32775",
   "outputs": [
    {
     "data": {
      "text/plain": [
       "torch.Size([1, 768])"
      ]
     },
     "execution_count": 39,
     "metadata": {},
     "output_type": "execute_result"
    }
   ],
   "execution_count": 39
  },
  {
   "metadata": {},
   "cell_type": "markdown",
   "source": "最後の隠れ層の[CLS]トークンに相当する隠れベクトルをデータセット全体に対して適用して、一つの行列として取り出す関数\n",
   "id": "9917b52e9c1ebaa0"
  },
  {
   "metadata": {
    "ExecuteTime": {
     "end_time": "2025-06-17T21:15:48.147254Z",
     "start_time": "2025-06-17T21:15:48.141725Z"
    }
   },
   "cell_type": "code",
   "source": [
    "def extract_hidden_states(batch):\n",
    "    # モデルの入力をGPU上へ転送\n",
    "    _inputs = {k:v.to(device) for k,v in batch.items() if k in tokenizer.model_input_names}\n",
    "    # 最後の隠れ状態を抽出\n",
    "    with torch.no_grad():\n",
    "        last_hideen_states = model(**_inputs).last_hidden_state\n",
    "    # [CLS]トークンに対応するベクトルを返す\n",
    "    return {\"hidden_state\": last_hideen_states[:,0].cpu().numpy()}"
   ],
   "id": "938f86c6aca30ab8",
   "outputs": [],
   "execution_count": 40
  },
  {
   "metadata": {
    "ExecuteTime": {
     "end_time": "2025-06-17T21:15:50.355706Z",
     "start_time": "2025-06-17T21:15:50.346736Z"
    }
   },
   "cell_type": "code",
   "source": [
    "# input_idsとattention_maskの列をtorch形式に変換\n",
    "print(emotions_encoded) # DatasetオブジェクトはApacheArrowをベースにしたネイティブPythonよりメモリ効率の良い型付きの列指向形式\n",
    "emotions_encoded.set_format(\"torch\", columns=['input_ids', 'attention_mask', 'label'])\n",
    "emotions_encoded"
   ],
   "id": "53a65a5dfa957233",
   "outputs": [
    {
     "name": "stdout",
     "output_type": "stream",
     "text": [
      "DatasetDict({\n",
      "    train: Dataset({\n",
      "        features: ['text', 'label', 'input_ids', 'attention_mask'],\n",
      "        num_rows: 16000\n",
      "    })\n",
      "    validation: Dataset({\n",
      "        features: ['text', 'label', 'input_ids', 'attention_mask'],\n",
      "        num_rows: 2000\n",
      "    })\n",
      "    test: Dataset({\n",
      "        features: ['text', 'label', 'input_ids', 'attention_mask'],\n",
      "        num_rows: 2000\n",
      "    })\n",
      "})\n"
     ]
    },
    {
     "data": {
      "text/plain": [
       "DatasetDict({\n",
       "    train: Dataset({\n",
       "        features: ['text', 'label', 'input_ids', 'attention_mask'],\n",
       "        num_rows: 16000\n",
       "    })\n",
       "    validation: Dataset({\n",
       "        features: ['text', 'label', 'input_ids', 'attention_mask'],\n",
       "        num_rows: 2000\n",
       "    })\n",
       "    test: Dataset({\n",
       "        features: ['text', 'label', 'input_ids', 'attention_mask'],\n",
       "        num_rows: 2000\n",
       "    })\n",
       "})"
      ]
     },
     "execution_count": 41,
     "metadata": {},
     "output_type": "execute_result"
    }
   ],
   "execution_count": 41
  },
  {
   "metadata": {
    "ExecuteTime": {
     "end_time": "2025-06-17T21:16:01.834877Z",
     "start_time": "2025-06-17T21:15:53.777341Z"
    }
   },
   "cell_type": "code",
   "source": [
    "# 一括して各データセットを入力したTransformerモデルの最終隠れ層の[CLS]に対応するベクトルを取り出す\n",
    "emotions_hidden = emotions_encoded.map(extract_hidden_states, batched=True) # batched=Trueでデフォルトのバッチサイズが適用される。この場合1000"
   ],
   "id": "eb376be353d39929",
   "outputs": [],
   "execution_count": 42
  },
  {
   "metadata": {
    "ExecuteTime": {
     "end_time": "2025-06-17T21:16:05.117524Z",
     "start_time": "2025-06-17T21:16:05.108615Z"
    }
   },
   "cell_type": "code",
   "source": "emotions_hidden",
   "id": "520b3e257cc81fd",
   "outputs": [
    {
     "data": {
      "text/plain": [
       "DatasetDict({\n",
       "    train: Dataset({\n",
       "        features: ['text', 'label', 'input_ids', 'attention_mask', 'hidden_state'],\n",
       "        num_rows: 16000\n",
       "    })\n",
       "    validation: Dataset({\n",
       "        features: ['text', 'label', 'input_ids', 'attention_mask', 'hidden_state'],\n",
       "        num_rows: 2000\n",
       "    })\n",
       "    test: Dataset({\n",
       "        features: ['text', 'label', 'input_ids', 'attention_mask', 'hidden_state'],\n",
       "        num_rows: 2000\n",
       "    })\n",
       "})"
      ]
     },
     "execution_count": 43,
     "metadata": {},
     "output_type": "execute_result"
    }
   ],
   "execution_count": 43
  },
  {
   "metadata": {
    "ExecuteTime": {
     "end_time": "2025-06-17T21:16:09.215543Z",
     "start_time": "2025-06-17T21:16:09.208703Z"
    }
   },
   "cell_type": "code",
   "source": "emotions_hidden['train'].column_names",
   "id": "90d2c07efa49e7c7",
   "outputs": [
    {
     "data": {
      "text/plain": [
       "['text', 'label', 'input_ids', 'attention_mask', 'hidden_state']"
      ]
     },
     "execution_count": 44,
     "metadata": {},
     "output_type": "execute_result"
    }
   ],
   "execution_count": 44
  },
  {
   "metadata": {},
   "cell_type": "markdown",
   "source": "2.3.1.3 特徴行列の作成",
   "id": "d266a1bf361ce3d0"
  },
  {
   "metadata": {
    "ExecuteTime": {
     "end_time": "2025-06-17T21:16:11.339645Z",
     "start_time": "2025-06-17T21:16:11.249125Z"
    }
   },
   "cell_type": "code",
   "source": [
    "import numpy as np\n",
    "\n",
    "X_train = np.array(emotions_hidden['train']['hidden_state'])\n",
    "X_valid = np.array(emotions_hidden['validation']['hidden_state'])\n",
    "y_train = np.array(emotions_hidden['train']['label'])\n",
    "y_valid = np.array(emotions_hidden['validation']['label'])\n",
    "X_train.shape, X_valid.shape"
   ],
   "id": "aa98dcf44a09c5c5",
   "outputs": [
    {
     "name": "stderr",
     "output_type": "stream",
     "text": [
      "C:\\Users\\InoueShinichi\\AppData\\Local\\Temp\\ipykernel_9040\\469332173.py:3: DeprecationWarning: __array__ implementation doesn't accept a copy keyword, so passing copy=False failed. __array__ must implement 'dtype' and 'copy' keyword arguments.\n",
      "  X_train = np.array(emotions_hidden['train']['hidden_state'])\n",
      "C:\\Users\\InoueShinichi\\AppData\\Local\\Temp\\ipykernel_9040\\469332173.py:4: DeprecationWarning: __array__ implementation doesn't accept a copy keyword, so passing copy=False failed. __array__ must implement 'dtype' and 'copy' keyword arguments.\n",
      "  X_valid = np.array(emotions_hidden['validation']['hidden_state'])\n",
      "C:\\Users\\InoueShinichi\\AppData\\Local\\Temp\\ipykernel_9040\\469332173.py:5: DeprecationWarning: __array__ implementation doesn't accept a copy keyword, so passing copy=False failed. __array__ must implement 'dtype' and 'copy' keyword arguments.\n",
      "  y_train = np.array(emotions_hidden['train']['label'])\n",
      "C:\\Users\\InoueShinichi\\AppData\\Local\\Temp\\ipykernel_9040\\469332173.py:6: DeprecationWarning: __array__ implementation doesn't accept a copy keyword, so passing copy=False failed. __array__ must implement 'dtype' and 'copy' keyword arguments.\n",
      "  y_valid = np.array(emotions_hidden['validation']['label'])\n"
     ]
    },
    {
     "data": {
      "text/plain": [
       "((16000, 768), (2000, 768))"
      ]
     },
     "execution_count": 45,
     "metadata": {},
     "output_type": "execute_result"
    }
   ],
   "execution_count": 45
  },
  {
   "metadata": {},
   "cell_type": "markdown",
   "source": [
    "2.3.1.4 学習データセットの可視化\n",
    "+ 768次元ベクトルを2次元ベクトルに次元削減するためにUMAPアルゴリズムを適用"
   ],
   "id": "37a4c4ac6b75e34"
  },
  {
   "metadata": {
    "ExecuteTime": {
     "end_time": "2025-06-17T21:16:57.553988Z",
     "start_time": "2025-06-17T21:16:14.289291Z"
    }
   },
   "cell_type": "code",
   "source": [
    "from umap import UMAP\n",
    "from sklearn.preprocessing import MinMaxScaler\n",
    "\n",
    "# 特徴を[0,1]区間にスケールする\n",
    "X_scaled = MinMaxScaler().fit_transform(X_train)\n",
    "\n",
    "# UMAPの初期化とfit\n",
    "mapper = UMAP(n_components=2, metric=\"cosine\").fit(X_scaled)\n",
    "\n",
    "# 2次元埋め込みのDataFrameを作成\n",
    "df_emb = pd.DataFrame(mapper.embedding_, columns=['X','Y'])\n",
    "df_emb['label'] = y_train\n",
    "df_emb.head()"
   ],
   "id": "4257092ae7a4d6d1",
   "outputs": [
    {
     "data": {
      "text/plain": [
       "          X         Y  label\n",
       "0  4.258216  2.946475      0\n",
       "1 -3.337619  3.565574      0\n",
       "2  4.969702  6.502039      3\n",
       "3 -2.527961  5.438173      2\n",
       "4 -3.599783  5.416068      3"
      ],
      "text/html": [
       "<div>\n",
       "<style scoped>\n",
       "    .dataframe tbody tr th:only-of-type {\n",
       "        vertical-align: middle;\n",
       "    }\n",
       "\n",
       "    .dataframe tbody tr th {\n",
       "        vertical-align: top;\n",
       "    }\n",
       "\n",
       "    .dataframe thead th {\n",
       "        text-align: right;\n",
       "    }\n",
       "</style>\n",
       "<table border=\"1\" class=\"dataframe\">\n",
       "  <thead>\n",
       "    <tr style=\"text-align: right;\">\n",
       "      <th></th>\n",
       "      <th>X</th>\n",
       "      <th>Y</th>\n",
       "      <th>label</th>\n",
       "    </tr>\n",
       "  </thead>\n",
       "  <tbody>\n",
       "    <tr>\n",
       "      <th>0</th>\n",
       "      <td>4.258216</td>\n",
       "      <td>2.946475</td>\n",
       "      <td>0</td>\n",
       "    </tr>\n",
       "    <tr>\n",
       "      <th>1</th>\n",
       "      <td>-3.337619</td>\n",
       "      <td>3.565574</td>\n",
       "      <td>0</td>\n",
       "    </tr>\n",
       "    <tr>\n",
       "      <th>2</th>\n",
       "      <td>4.969702</td>\n",
       "      <td>6.502039</td>\n",
       "      <td>3</td>\n",
       "    </tr>\n",
       "    <tr>\n",
       "      <th>3</th>\n",
       "      <td>-2.527961</td>\n",
       "      <td>5.438173</td>\n",
       "      <td>2</td>\n",
       "    </tr>\n",
       "    <tr>\n",
       "      <th>4</th>\n",
       "      <td>-3.599783</td>\n",
       "      <td>5.416068</td>\n",
       "      <td>3</td>\n",
       "    </tr>\n",
       "  </tbody>\n",
       "</table>\n",
       "</div>"
      ]
     },
     "execution_count": 46,
     "metadata": {},
     "output_type": "execute_result"
    }
   ],
   "execution_count": 46
  },
  {
   "metadata": {},
   "cell_type": "markdown",
   "source": "次元削減した特徴量をもう少しカテゴリごとに調査",
   "id": "8313278c3326c806"
  },
  {
   "metadata": {
    "ExecuteTime": {
     "end_time": "2025-06-17T21:17:01.717112Z",
     "start_time": "2025-06-17T21:17:01.574038Z"
    }
   },
   "cell_type": "code",
   "source": [
    "fig, axes = plt.subplots(2, 3, figsize=(7,5))\n",
    "axes = axes.flatten()\n",
    "cmaps = ['Greys', 'Blues', 'Oranges', 'Reds', 'Purples', 'Greens']\n",
    "labels = emotions['train'].features['label'].names\n",
    "\n",
    "for i, (label, cmap) in enumerate(zip(labels, cmaps)):\n",
    "    df_emb_sub = df_emb.query(f'label == {i}')\n",
    "    axes[i].hexbin(df_emb_sub['X'], df_emb_sub['Y'], cmap=cmap, gridsize=20, linewidths=(0,))\n",
    "    axes[i].set_title(label)\n",
    "    axes[i].set_xticks([])\n",
    "    axes[i].set_yticks([])\n",
    "\n",
    "plt.tight_layout()\n",
    "plt.show()"
   ],
   "id": "54b0efcb125a8914",
   "outputs": [
    {
     "data": {
      "text/plain": [
       "<Figure size 700x500 with 6 Axes>"
      ],
      "image/png": "[encoded data removed]"
     },
     "metadata": {},
     "output_type": "display_data"
    }
   ],
   "execution_count": 47
  },
  {
   "metadata": {},
   "cell_type": "markdown",
   "source": [
    "2.3.1.5 単純な分類器の学習\n",
    "+ scikit-learnのlogistic分類器を使う"
   ],
   "id": "9c8ae16b8de7a30"
  },
  {
   "metadata": {
    "ExecuteTime": {
     "end_time": "2025-06-17T21:17:25.047241Z",
     "start_time": "2025-06-17T21:17:06.444896Z"
    }
   },
   "cell_type": "code",
   "source": [
    "from sklearn.linear_model import LogisticRegression\n",
    "\n",
    "# 収束を保証するために'max_iter'の値を増加\n",
    "lr_clf = LogisticRegression(max_iter=3000)\n",
    "lr_clf.fit(X_train, y_train)\n",
    "Accuracy = lr_clf.score(X_valid, y_valid) # 検証データによる正解率\n",
    "print(f\"Accuracy: {Accuracy}\")"
   ],
   "id": "f98fdd05297b104f",
   "outputs": [
    {
     "name": "stdout",
     "output_type": "stream",
     "text": [
      "Accuracy: 0.634\n"
     ]
    }
   ],
   "execution_count": 48
  },
  {
   "metadata": {
    "ExecuteTime": {
     "end_time": "2025-06-17T21:17:28.182889Z",
     "start_time": "2025-06-17T21:17:28.166734Z"
    }
   },
   "cell_type": "code",
   "source": [
    "# 適当な分類器と比較\n",
    "from sklearn.dummy import DummyClassifier\n",
    "\n",
    "dummy_clf = DummyClassifier(strategy='most_frequent') # 多数派戦略\n",
    "dummy_clf.fit(X_train, y_train)\n",
    "acc = dummy_clf.score(X_valid, y_valid) # 正解率\n",
    "print(f\"Accuracy: {acc}\")"
   ],
   "id": "60601b08ab02e6bd",
   "outputs": [
    {
     "name": "stdout",
     "output_type": "stream",
     "text": [
      "Accuracy: 0.352\n"
     ]
    }
   ],
   "execution_count": 49
  },
  {
   "metadata": {},
   "cell_type": "markdown",
   "source": "混同行列で分類状態をチェック\n",
   "id": "5bfc1d71c17bb297"
  },
  {
   "metadata": {
    "ExecuteTime": {
     "end_time": "2025-06-17T21:17:30.693305Z",
     "start_time": "2025-06-17T21:17:30.556985Z"
    }
   },
   "cell_type": "code",
   "source": [
    "from sklearn.metrics import ConfusionMatrixDisplay, confusion_matrix\n",
    "\n",
    "def plot_confusion_matrix(y_preds, y_true, labels):\n",
    "    cm = confusion_matrix(y_true, y_preds, normalize=\"true\")\n",
    "    fig, ax = plt.subplots(figsize=(10,10))\n",
    "    disp = ConfusionMatrixDisplay(confusion_matrix=cm, display_labels=labels)\n",
    "    disp.plot(cmap=\"Blues\", values_format=\".2f\", ax=ax, colorbar=False)\n",
    "    plt.title(\"Normalized Confusion Matrix\")\n",
    "    plt.show()\n",
    "\n",
    "\n",
    "y_preds = lr_clf.predict(X_valid)\n",
    "plot_confusion_matrix(y_preds, y_valid, labels)"
   ],
   "id": "d1e9f6bf901dd28c",
   "outputs": [
    {
     "data": {
      "text/plain": [
       "<Figure size 1000x1000 with 1 Axes>"
      ],
      "image/png": "[encoded data removed]"
     },
     "metadata": {},
     "output_type": "display_data"
    }
   ],
   "execution_count": 50
  },
  {
   "metadata": {},
   "cell_type": "markdown",
   "source": "### 2.3.2 Transformerのファインチューニング",
   "id": "77368ee03e37d653"
  },
  {
   "metadata": {},
   "cell_type": "markdown",
   "source": [
    "+ Trainer API\n",
    "+ AutoModelForSequenceClassificationモデルが事前学習済みモデルの出力の上に分類ヘッドを持っている"
   ],
   "id": "1c587ae6a5b25bd3"
  },
  {
   "metadata": {
    "ExecuteTime": {
     "end_time": "2025-06-17T21:18:22.491431Z",
     "start_time": "2025-06-17T21:18:21.472102Z"
    }
   },
   "cell_type": "code",
   "source": [
    "# 分類数は自分で決める\n",
    "from transformers import AutoModelForSequenceClassification\n",
    "\n",
    "num_labels = 6\n",
    "model = (AutoModelForSequenceClassification.from_pretrained(model_ckpt, num_labels=num_labels).to(device))"
   ],
   "id": "a4b8276149c38ad1",
   "outputs": [
    {
     "name": "stderr",
     "output_type": "stream",
     "text": [
      "C:\\Users\\InoueShinichi\\.conda\\envs\\Book_Transformers\\Lib\\site-packages\\transformers\\modeling_utils.py:1435: FutureWarning: You are using `torch.load` with `weights_only=False` (the current default value), which uses the default pickle module implicitly. It is possible to construct malicious pickle data which will execute arbitrary code during unpickling (See https://github.com/pytorch/pytorch/blob/main/SECURITY.md#untrusted-models for more details). In a future release, the default value for `weights_only` will be flipped to `True`. This limits the functions that could be executed during unpickling. Arbitrary objects will no longer be allowed to be loaded via this mode unless they are explicitly allowlisted by the user via `torch.serialization.add_safe_globals`. We recommend you start setting `weights_only=True` for any use case where you don't have full control of the loaded file. Please open an issue on GitHub for any issues related to this experimental feature.\n",
      "  state_dict = torch.load(resolved_archive_file, map_location=\"cpu\")\n",
      "Some weights of the model checkpoint at distilbert-base-uncased were not used when initializing DistilBertForSequenceClassification: ['vocab_projector.bias', 'vocab_layer_norm.weight', 'vocab_transform.bias', 'vocab_layer_norm.bias', 'vocab_projector.weight', 'vocab_transform.weight']\n",
      "- This IS expected if you are initializing DistilBertForSequenceClassification from the checkpoint of a model trained on another task or with another architecture (e.g. initializing a BertForSequenceClassification model from a BertForPreTraining model).\n",
      "- This IS NOT expected if you are initializing DistilBertForSequenceClassification from the checkpoint of a model that you expect to be exactly identical (initializing a BertForSequenceClassification model from a BertForSequenceClassification model).\n",
      "Some weights of DistilBertForSequenceClassification were not initialized from the model checkpoint at distilbert-base-uncased and are newly initialized: ['pre_classifier.bias', 'classifier.bias', 'classifier.weight', 'pre_classifier.weight']\n",
      "You should probably TRAIN this model on a down-stream task to be able to use it for predictions and inference.\n"
     ]
    }
   ],
   "execution_count": 52
  },
  {
   "metadata": {},
   "cell_type": "markdown",
   "source": "2.3.2.2 性能指標の定義",
   "id": "dcd12b60b8b4f2f2"
  },
  {
   "metadata": {
    "ExecuteTime": {
     "end_time": "2025-06-17T21:24:01.783250Z",
     "start_time": "2025-06-17T21:24:01.777194Z"
    }
   },
   "cell_type": "code",
   "source": [
    "# F1スコア\n",
    "from sklearn.metrics import accuracy_score, f1_score\n",
    "\n",
    "# EvalPredictionオブジェクト(predictionsとlabel_ids属性の名前付きタプル)を\n",
    "# 引数にとり、各指標の名前とその値を対応させた辞書を返す必要がある関数\n",
    "def compute_metrics(pred):\n",
    "    labels = pred.label_ids\n",
    "    preds = pred.predictions.argmax(-1)\n",
    "    f1 = f1_score(labels, preds, average=\"weighted\")\n",
    "    acc = accuracy_score(labels, preds)\n",
    "    return {\"f1\": f1, \"acc\": acc}"
   ],
   "id": "e64ec2dd1dc985c0",
   "outputs": [],
   "execution_count": 53
  },
  {
   "metadata": {},
   "cell_type": "markdown",
   "source": "##### HuggingFaceにログイン",
   "id": "4b8afff99c59513a"
  },
  {
   "metadata": {
    "ExecuteTime": {
     "end_time": "2025-06-17T23:01:54.215423Z",
     "start_time": "2025-06-17T23:01:54.206910Z"
    }
   },
   "cell_type": "code",
   "source": [
    "from huggingface_hub import notebook_login\n",
    "\n",
    "notebook_login()"
   ],
   "id": "501106cd863cc8af",
   "outputs": [
    {
     "data": {
      "text/plain": [
       "VBox(children=(HTML(value='<center> <img\\nsrc=https://huggingface.co/front/assets/huggingface_logo-noborder.sv…"
      ],
      "application/vnd.jupyter.widget-view+json": {
       "version_major": 2,
       "version_minor": 0,
       "model_id": "9c420d550dce4a8690095955c9f86448"
      }
     },
     "metadata": {},
     "output_type": "display_data"
    }
   ],
   "execution_count": 104
  },
  {
   "metadata": {
    "ExecuteTime": {
     "end_time": "2025-06-17T23:02:06.727351Z",
     "start_time": "2025-06-17T23:02:06.719653Z"
    }
   },
   "cell_type": "code",
   "source": [
    "# 学習用ハイパーパラメータ用クラス\n",
    "from transformers import Trainer, TrainingArguments, IntervalStrategy\n",
    "\n",
    "batch_size = 64\n",
    "logging_steps = len(emotions_encoded['train']) // batch_size\n",
    "model_name = f\"TinyTank/{model_ckpt}-finetuned-emotion\"\n",
    "print(model_name)\n",
    "training_args = TrainingArguments(\n",
    "    output_dir=model_name,\n",
    "    num_train_epochs=2,\n",
    "    learning_rate=2e-5,\n",
    "    per_device_train_batch_size=batch_size,\n",
    "    per_device_eval_batch_size=batch_size,\n",
    "    weight_decay=0.01,\n",
    "    evaluation_strategy=IntervalStrategy.EPOCH,\n",
    "    disable_tqdm=False,\n",
    "    logging_steps=logging_steps,\n",
    "    push_to_hub=False,\n",
    "    log_level=\"error\",\n",
    ")"
   ],
   "id": "be371e3a53d2da31",
   "outputs": [
    {
     "name": "stdout",
     "output_type": "stream",
     "text": [
      "TinyTank/distilbert-base-uncased-finetuned-emotion\n"
     ]
    }
   ],
   "execution_count": 105
  },
  {
   "metadata": {
    "ExecuteTime": {
     "end_time": "2025-06-17T23:03:42.735558Z",
     "start_time": "2025-06-17T23:02:14.103818Z"
    }
   },
   "cell_type": "code",
   "source": [
    "trainer = Trainer(model=model, args=training_args,\n",
    "                  compute_metrics=compute_metrics,\n",
    "                  train_dataset=emotions_encoded['train'],\n",
    "                  eval_dataset=emotions_encoded['validation'],\n",
    "                  tokenizer=tokenizer,\n",
    "                  )\n",
    "\n",
    "# torch.cuda.set_device('cuda:1')\n",
    "print(f\"device: {torch.cuda.current_device()}\")\n",
    "trainer.train()"
   ],
   "id": "7d968ae315aca31e",
   "outputs": [
    {
     "name": "stdout",
     "output_type": "stream",
     "text": [
      "device: 0\n"
     ]
    },
    {
     "name": "stderr",
     "output_type": "stream",
     "text": [
      "C:\\Users\\InoueShinichi\\.conda\\envs\\Book_Transformers\\Lib\\site-packages\\transformers\\optimization.py:306: FutureWarning: This implementation of AdamW is deprecated and will be removed in a future version. Use thePyTorch implementation torch.optim.AdamW instead, or set `no_deprecation_warning=True` to disable this warning\n",
      "  warnings.warn(\n",
      "C:\\Users\\InoueShinichi\\.conda\\envs\\Book_Transformers\\Lib\\site-packages\\torch\\nn\\parallel\\data_parallel.py:37: UserWarning: \n",
      "    There is an imbalance between your GPUs. You may want to exclude GPU 1 which\n",
      "    has less than 75% of the memory or cores of GPU 0. You can do so by setting\n",
      "    the device_ids argument to DataParallel, or by setting the CUDA_VISIBLE_DEVICES\n",
      "    environment variable.\n",
      "  warnings.warn(\n",
      "C:\\Users\\InoueShinichi\\.conda\\envs\\Book_Transformers\\Lib\\site-packages\\torch\\nn\\parallel\\_functions.py:71: UserWarning: Was asked to gather along dimension 0, but all input tensors were scalars; will instead unsqueeze and return a vector.\n",
      "  warnings.warn(\n",
      "C:\\Users\\InoueShinichi\\.conda\\envs\\Book_Transformers\\Lib\\site-packages\\torch\\cuda\\nccl.py:16: UserWarning: PyTorch is not compiled with NCCL support\n",
      "  warnings.warn(\"PyTorch is not compiled with NCCL support\")\n"
     ]
    },
    {
     "data": {
      "text/plain": [
       "<IPython.core.display.HTML object>"
      ],
      "text/html": [
       "\n",
       "    <div>\n",
       "      \n",
       "      <progress value='250' max='250' style='width:300px; height:20px; vertical-align: middle;'></progress>\n",
       "      [250/250 01:27, Epoch 2/2]\n",
       "    </div>\n",
       "    <table border=\"1\" class=\"dataframe\">\n",
       "  <thead>\n",
       " <tr style=\"text-align: left;\">\n",
       "      <th>Epoch</th>\n",
       "      <th>Training Loss</th>\n",
       "      <th>Validation Loss</th>\n",
       "      <th>F1</th>\n",
       "      <th>Acc</th>\n",
       "    </tr>\n",
       "  </thead>\n",
       "  <tbody>\n",
       "    <tr>\n",
       "      <td>1</td>\n",
       "      <td>No log</td>\n",
       "      <td>0.384089</td>\n",
       "      <td>0.935839</td>\n",
       "      <td>0.936000</td>\n",
       "    </tr>\n",
       "    <tr>\n",
       "      <td>2</td>\n",
       "      <td>0.008100</td>\n",
       "      <td>0.363888</td>\n",
       "      <td>0.933118</td>\n",
       "      <td>0.933000</td>\n",
       "    </tr>\n",
       "  </tbody>\n",
       "</table><p>"
      ]
     },
     "metadata": {},
     "output_type": "display_data"
    },
    {
     "name": "stderr",
     "output_type": "stream",
     "text": [
      "C:\\Users\\InoueShinichi\\.conda\\envs\\Book_Transformers\\Lib\\site-packages\\torch\\nn\\parallel\\_functions.py:71: UserWarning: Was asked to gather along dimension 0, but all input tensors were scalars; will instead unsqueeze and return a vector.\n",
      "  warnings.warn(\n",
      "C:\\Users\\InoueShinichi\\.conda\\envs\\Book_Transformers\\Lib\\site-packages\\torch\\cuda\\nccl.py:16: UserWarning: PyTorch is not compiled with NCCL support\n",
      "  warnings.warn(\"PyTorch is not compiled with NCCL support\")\n",
      "C:\\Users\\InoueShinichi\\.conda\\envs\\Book_Transformers\\Lib\\site-packages\\torch\\nn\\parallel\\data_parallel.py:37: UserWarning: \n",
      "    There is an imbalance between your GPUs. You may want to exclude GPU 1 which\n",
      "    has less than 75% of the memory or cores of GPU 0. You can do so by setting\n",
      "    the device_ids argument to DataParallel, or by setting the CUDA_VISIBLE_DEVICES\n",
      "    environment variable.\n",
      "  warnings.warn(\n"
     ]
    },
    {
     "data": {
      "text/plain": [
       "TrainOutput(global_step=250, training_loss=0.008105481147766113, metrics={'train_runtime': 88.6103, 'train_samples_per_second': 361.132, 'train_steps_per_second': 2.821, 'total_flos': 720342861696000.0, 'train_loss': 0.008105481147766113, 'epoch': 2.0})"
      ]
     },
     "execution_count": 106,
     "metadata": {},
     "output_type": "execute_result"
    }
   ],
   "execution_count": 106
  },
  {
   "metadata": {
    "ExecuteTime": {
     "end_time": "2025-06-17T23:06:09.577890Z",
     "start_time": "2025-06-17T23:06:06.902932Z"
    }
   },
   "cell_type": "code",
   "source": [
    "# 混同行列を出力\n",
    "\n",
    "preds_output = trainer.predict(emotions_encoded['validation'])\n",
    "preds_output.metrics"
   ],
   "id": "6ee558d12c028a35",
   "outputs": [
    {
     "name": "stderr",
     "output_type": "stream",
     "text": [
      "C:\\Users\\InoueShinichi\\.conda\\envs\\Book_Transformers\\Lib\\site-packages\\torch\\nn\\parallel\\data_parallel.py:37: UserWarning: \n",
      "    There is an imbalance between your GPUs. You may want to exclude GPU 1 which\n",
      "    has less than 75% of the memory or cores of GPU 0. You can do so by setting\n",
      "    the device_ids argument to DataParallel, or by setting the CUDA_VISIBLE_DEVICES\n",
      "    environment variable.\n",
      "  warnings.warn(\n",
      "C:\\Users\\InoueShinichi\\.conda\\envs\\Book_Transformers\\Lib\\site-packages\\torch\\nn\\parallel\\_functions.py:71: UserWarning: Was asked to gather along dimension 0, but all input tensors were scalars; will instead unsqueeze and return a vector.\n",
      "  warnings.warn(\n"
     ]
    },
    {
     "data": {
      "text/plain": [
       "<IPython.core.display.HTML object>"
      ],
      "text/html": [
       "\n",
       "    <div>\n",
       "      \n",
       "      <progress value='16' max='16' style='width:300px; height:20px; vertical-align: middle;'></progress>\n",
       "      [16/16 00:02]\n",
       "    </div>\n",
       "    "
      ]
     },
     "metadata": {},
     "output_type": "display_data"
    },
    {
     "data": {
      "text/plain": [
       "{'test_loss': 0.3638882637023926,\n",
       " 'test_f1': 0.9331183988173117,\n",
       " 'test_acc': 0.933,\n",
       " 'test_runtime': 2.6673,\n",
       " 'test_samples_per_second': 749.809,\n",
       " 'test_steps_per_second': 5.998}"
      ]
     },
     "execution_count": 107,
     "metadata": {},
     "output_type": "execute_result"
    }
   ],
   "execution_count": 107
  },
  {
   "metadata": {
    "ExecuteTime": {
     "end_time": "2025-06-17T23:06:11.895637Z",
     "start_time": "2025-06-17T23:06:11.765447Z"
    }
   },
   "cell_type": "code",
   "source": [
    "# 各クラスの生の予測値を取り出す\n",
    "y_preds = np.argmax(preds_output.predictions, axis=1)\n",
    "\n",
    "# プロット\n",
    "plot_confusion_matrix(y_preds, y_valid, labels)"
   ],
   "id": "1e4a2c228f065521",
   "outputs": [
    {
     "data": {
      "text/plain": [
       "<Figure size 1000x1000 with 1 Axes>"
      ],
      "image/png": "[encoded data removed]"
     },
     "metadata": {},
     "output_type": "display_data"
    }
   ],
   "execution_count": 108
  },
  {
   "metadata": {},
   "cell_type": "markdown",
   "source": "2.3.2.4 エラー分析",
   "id": "3c715d6f3ac810c"
  },
  {
   "metadata": {
    "ExecuteTime": {
     "end_time": "2025-06-17T23:06:17.201716Z",
     "start_time": "2025-06-17T23:06:17.197772Z"
    }
   },
   "cell_type": "code",
   "source": [
    "from torch.nn.functional import cross_entropy\n",
    "\n",
    "def forward_pass_with_label(batch):\n",
    "    inputs = {k:v.to(device) for k,v in batch.items()\n",
    "              if k in tokenizer.model_input_names}\n",
    "\n",
    "    with torch.no_grad():\n",
    "        output = model(**inputs)\n",
    "        pred_label = torch.argmax(output.logits, dim=-1)\n",
    "        loss = cross_entropy(output.logits, batch['label'].to(device), reduction=\"none\")\n",
    "\n",
    "        # データセットの他の列との互換性を保つため、出力をCPU上に配置する\n",
    "        return {\n",
    "            \"loss\": loss.cpu().numpy(),\n",
    "            \"predicted_label\": pred_label.cpu().numpy()\n",
    "        }\n"
   ],
   "id": "47b9f69f55aa378d",
   "outputs": [],
   "execution_count": 109
  },
  {
   "metadata": {
    "ExecuteTime": {
     "end_time": "2025-06-17T23:06:22.711114Z",
     "start_time": "2025-06-17T23:06:18.722766Z"
    }
   },
   "cell_type": "code",
   "source": [
    "# DictDataset -> torch.tensor\n",
    "emotions_encoded.set_format(\"torch\", columns=[\"input_ids\", \"attention_mask\", \"label\"])\n",
    "# 損失の計算\n",
    "emotions_encoded['validation'] = emotions_encoded['validation'].map(forward_pass_with_label, batched=True, batch_size=16)\n",
    "\n"
   ],
   "id": "33ee9d185d95f703",
   "outputs": [
    {
     "data": {
      "text/plain": [
       "Map:   0%|          | 0/2000 [00:00<?, ? examples/s]"
      ],
      "application/vnd.jupyter.widget-view+json": {
       "version_major": 2,
       "version_minor": 0,
       "model_id": "6504d9645d7544938c3eea158adc0a87"
      }
     },
     "metadata": {},
     "output_type": "display_data"
    }
   ],
   "execution_count": 110
  },
  {
   "metadata": {
    "ExecuteTime": {
     "end_time": "2025-06-17T23:06:22.869785Z",
     "start_time": "2025-06-17T23:06:22.741722Z"
    }
   },
   "cell_type": "code",
   "source": [
    "emotions_encoded.set_format(\"pandas\")\n",
    "cols = [\"text\", \"label\", \"predicted_label\", \"loss\"]\n",
    "df_test = emotions_encoded['validation'][:][cols]\n",
    "df_test[\"label\"] = df_test[\"label\"].apply(label_int2str)\n",
    "df_test[\"predicted_label\"] = df_test[\"predicted_label\"].apply(label_int2str)\n",
    "\n",
    "# 損失が高い10件\n",
    "df_test.sort_values(\"loss\", ascending=False).head(10)"
   ],
   "id": "b91b1fa829b34a45",
   "outputs": [
    {
     "data": {
      "text/plain": [
       "                                                   text     label  \\\n",
       "1950  i as representative of everything thats wrong ...  surprise   \n",
       "1801  i feel that he was being overshadowed by the s...      love   \n",
       "1509  i guess this is a memoir so it feels like that...       joy   \n",
       "1919  i should admit when consuming alcohol myself i...      fear   \n",
       "415   im kind of embarrassed about feeling that way ...      love   \n",
       "1322  i hate being the party girl because i feel lik...   sadness   \n",
       "292   i can say is that i feel like myself when i pu...      love   \n",
       "1124                    someone acting stupid in public     anger   \n",
       "300   i have had several new members tell me how com...      love   \n",
       "1943  i think that in this way though the readers wi...      love   \n",
       "\n",
       "     predicted_label       loss  \n",
       "1950         sadness  13.736853  \n",
       "1801         sadness  13.679817  \n",
       "1509            fear  11.802736  \n",
       "1919         sadness  11.621533  \n",
       "415          sadness  11.593937  \n",
       "1322           anger  10.671423  \n",
       "292              joy  10.615710  \n",
       "1124         sadness  10.594071  \n",
       "300              joy  10.290679  \n",
       "1943             joy   9.924733  "
      ],
      "text/html": [
       "<div>\n",
       "<style scoped>\n",
       "    .dataframe tbody tr th:only-of-type {\n",
       "        vertical-align: middle;\n",
       "    }\n",
       "\n",
       "    .dataframe tbody tr th {\n",
       "        vertical-align: top;\n",
       "    }\n",
       "\n",
       "    .dataframe thead th {\n",
       "        text-align: right;\n",
       "    }\n",
       "</style>\n",
       "<table border=\"1\" class=\"dataframe\">\n",
       "  <thead>\n",
       "    <tr style=\"text-align: right;\">\n",
       "      <th></th>\n",
       "      <th>text</th>\n",
       "      <th>label</th>\n",
       "      <th>predicted_label</th>\n",
       "      <th>loss</th>\n",
       "    </tr>\n",
       "  </thead>\n",
       "  <tbody>\n",
       "    <tr>\n",
       "      <th>1950</th>\n",
       "      <td>i as representative of everything thats wrong ...</td>\n",
       "      <td>surprise</td>\n",
       "      <td>sadness</td>\n",
       "      <td>13.736853</td>\n",
       "    </tr>\n",
       "    <tr>\n",
       "      <th>1801</th>\n",
       "      <td>i feel that he was being overshadowed by the s...</td>\n",
       "      <td>love</td>\n",
       "      <td>sadness</td>\n",
       "      <td>13.679817</td>\n",
       "    </tr>\n",
       "    <tr>\n",
       "      <th>1509</th>\n",
       "      <td>i guess this is a memoir so it feels like that...</td>\n",
       "      <td>joy</td>\n",
       "      <td>fear</td>\n",
       "      <td>11.802736</td>\n",
       "    </tr>\n",
       "    <tr>\n",
       "      <th>1919</th>\n",
       "      <td>i should admit when consuming alcohol myself i...</td>\n",
       "      <td>fear</td>\n",
       "      <td>sadness</td>\n",
       "      <td>11.621533</td>\n",
       "    </tr>\n",
       "    <tr>\n",
       "      <th>415</th>\n",
       "      <td>im kind of embarrassed about feeling that way ...</td>\n",
       "      <td>love</td>\n",
       "      <td>sadness</td>\n",
       "      <td>11.593937</td>\n",
       "    </tr>\n",
       "    <tr>\n",
       "      <th>1322</th>\n",
       "      <td>i hate being the party girl because i feel lik...</td>\n",
       "      <td>sadness</td>\n",
       "      <td>anger</td>\n",
       "      <td>10.671423</td>\n",
       "    </tr>\n",
       "    <tr>\n",
       "      <th>292</th>\n",
       "      <td>i can say is that i feel like myself when i pu...</td>\n",
       "      <td>love</td>\n",
       "      <td>joy</td>\n",
       "      <td>10.615710</td>\n",
       "    </tr>\n",
       "    <tr>\n",
       "      <th>1124</th>\n",
       "      <td>someone acting stupid in public</td>\n",
       "      <td>anger</td>\n",
       "      <td>sadness</td>\n",
       "      <td>10.594071</td>\n",
       "    </tr>\n",
       "    <tr>\n",
       "      <th>300</th>\n",
       "      <td>i have had several new members tell me how com...</td>\n",
       "      <td>love</td>\n",
       "      <td>joy</td>\n",
       "      <td>10.290679</td>\n",
       "    </tr>\n",
       "    <tr>\n",
       "      <th>1943</th>\n",
       "      <td>i think that in this way though the readers wi...</td>\n",
       "      <td>love</td>\n",
       "      <td>joy</td>\n",
       "      <td>9.924733</td>\n",
       "    </tr>\n",
       "  </tbody>\n",
       "</table>\n",
       "</div>"
      ]
     },
     "execution_count": 111,
     "metadata": {},
     "output_type": "execute_result"
    }
   ],
   "execution_count": 111
  },
  {
   "metadata": {
    "ExecuteTime": {
     "end_time": "2025-06-17T23:06:26.511068Z",
     "start_time": "2025-06-17T23:06:26.504842Z"
    }
   },
   "cell_type": "code",
   "source": [
    "# 損失が少ない10件\n",
    "df_test.sort_values(\"loss\", ascending=True).head(10)"
   ],
   "id": "145fd9d56cf24be2",
   "outputs": [
    {
     "data": {
      "text/plain": [
       "                                                   text    label  \\\n",
       "21    i feel try to tell me im ungrateful tell me im...  sadness   \n",
       "473   i have this mixed up kinda feeling and i reall...  sadness   \n",
       "264       i am left feeling underwhelmed and ungrateful  sadness   \n",
       "1466  i feel so ungrateful to be wishing this pregna...  sadness   \n",
       "1886                   i feel unloved and know im hated  sadness   \n",
       "1303                     i feel pathetic and uninspired  sadness   \n",
       "625   i feel unwelcome in this town as if my time he...  sadness   \n",
       "1665                            i feel a lil bit gloomy  sadness   \n",
       "1531  i forgive stanley hes not so quick to forgive ...  sadness   \n",
       "369   i just need a few minutes to feel put upon and...  sadness   \n",
       "\n",
       "     predicted_label      loss  \n",
       "21           sadness  0.000006  \n",
       "473          sadness  0.000006  \n",
       "264          sadness  0.000006  \n",
       "1466         sadness  0.000006  \n",
       "1886         sadness  0.000006  \n",
       "1303         sadness  0.000006  \n",
       "625          sadness  0.000006  \n",
       "1665         sadness  0.000006  \n",
       "1531         sadness  0.000006  \n",
       "369          sadness  0.000006  "
      ],
      "text/html": [
       "<div>\n",
       "<style scoped>\n",
       "    .dataframe tbody tr th:only-of-type {\n",
       "        vertical-align: middle;\n",
       "    }\n",
       "\n",
       "    .dataframe tbody tr th {\n",
       "        vertical-align: top;\n",
       "    }\n",
       "\n",
       "    .dataframe thead th {\n",
       "        text-align: right;\n",
       "    }\n",
       "</style>\n",
       "<table border=\"1\" class=\"dataframe\">\n",
       "  <thead>\n",
       "    <tr style=\"text-align: right;\">\n",
       "      <th></th>\n",
       "      <th>text</th>\n",
       "      <th>label</th>\n",
       "      <th>predicted_label</th>\n",
       "      <th>loss</th>\n",
       "    </tr>\n",
       "  </thead>\n",
       "  <tbody>\n",
       "    <tr>\n",
       "      <th>21</th>\n",
       "      <td>i feel try to tell me im ungrateful tell me im...</td>\n",
       "      <td>sadness</td>\n",
       "      <td>sadness</td>\n",
       "      <td>0.000006</td>\n",
       "    </tr>\n",
       "    <tr>\n",
       "      <th>473</th>\n",
       "      <td>i have this mixed up kinda feeling and i reall...</td>\n",
       "      <td>sadness</td>\n",
       "      <td>sadness</td>\n",
       "      <td>0.000006</td>\n",
       "    </tr>\n",
       "    <tr>\n",
       "      <th>264</th>\n",
       "      <td>i am left feeling underwhelmed and ungrateful</td>\n",
       "      <td>sadness</td>\n",
       "      <td>sadness</td>\n",
       "      <td>0.000006</td>\n",
       "    </tr>\n",
       "    <tr>\n",
       "      <th>1466</th>\n",
       "      <td>i feel so ungrateful to be wishing this pregna...</td>\n",
       "      <td>sadness</td>\n",
       "      <td>sadness</td>\n",
       "      <td>0.000006</td>\n",
       "    </tr>\n",
       "    <tr>\n",
       "      <th>1886</th>\n",
       "      <td>i feel unloved and know im hated</td>\n",
       "      <td>sadness</td>\n",
       "      <td>sadness</td>\n",
       "      <td>0.000006</td>\n",
       "    </tr>\n",
       "    <tr>\n",
       "      <th>1303</th>\n",
       "      <td>i feel pathetic and uninspired</td>\n",
       "      <td>sadness</td>\n",
       "      <td>sadness</td>\n",
       "      <td>0.000006</td>\n",
       "    </tr>\n",
       "    <tr>\n",
       "      <th>625</th>\n",
       "      <td>i feel unwelcome in this town as if my time he...</td>\n",
       "      <td>sadness</td>\n",
       "      <td>sadness</td>\n",
       "      <td>0.000006</td>\n",
       "    </tr>\n",
       "    <tr>\n",
       "      <th>1665</th>\n",
       "      <td>i feel a lil bit gloomy</td>\n",
       "      <td>sadness</td>\n",
       "      <td>sadness</td>\n",
       "      <td>0.000006</td>\n",
       "    </tr>\n",
       "    <tr>\n",
       "      <th>1531</th>\n",
       "      <td>i forgive stanley hes not so quick to forgive ...</td>\n",
       "      <td>sadness</td>\n",
       "      <td>sadness</td>\n",
       "      <td>0.000006</td>\n",
       "    </tr>\n",
       "    <tr>\n",
       "      <th>369</th>\n",
       "      <td>i just need a few minutes to feel put upon and...</td>\n",
       "      <td>sadness</td>\n",
       "      <td>sadness</td>\n",
       "      <td>0.000006</td>\n",
       "    </tr>\n",
       "  </tbody>\n",
       "</table>\n",
       "</div>"
      ]
     },
     "execution_count": 112,
     "metadata": {},
     "output_type": "execute_result"
    }
   ],
   "execution_count": 112
  },
  {
   "metadata": {},
   "cell_type": "markdown",
   "source": "2.3.2.5 モデルの保存と共有",
   "id": "4e414e8a92e85931"
  },
  {
   "metadata": {
    "ExecuteTime": {
     "end_time": "2025-06-17T22:50:54.753645Z",
     "start_time": "2025-06-17T22:50:54.743839Z"
    }
   },
   "cell_type": "code",
   "source": [
    "from huggingface_hub import notebook_login\n",
    "\n",
    "notebook_login()"
   ],
   "id": "148b52a517ae7047",
   "outputs": [
    {
     "data": {
      "text/plain": [
       "VBox(children=(HTML(value='<center> <img\\nsrc=https://huggingface.co/front/assets/huggingface_logo-noborder.sv…"
      ],
      "application/vnd.jupyter.widget-view+json": {
       "version_major": 2,
       "version_minor": 0,
       "model_id": "7fa7ab2c0f604c389954bba2ac2c140e"
      }
     },
     "metadata": {},
     "output_type": "display_data"
    }
   ],
   "execution_count": 90
  },
  {
   "metadata": {
    "ExecuteTime": {
     "end_time": "2025-06-17T23:11:03.659246Z",
     "start_time": "2025-06-17T23:10:26.885924Z"
    }
   },
   "cell_type": "code",
   "source": [
    "from huggingface_hub import HfApi\n",
    "\n",
    "api = HfApi(token=\"\")\n",
    "api.upload_folder(\n",
    "    folder_path=R\"C:\\Users\\InoueShinichi\\OneDrive\\Desktop\\MyGithub\\Book_Transformers\\TinyTank\\distilbert-base-uncased-finetuned-emotion\",\n",
    "    repo_id=\"TinyTank/distilbert-base-uncased-finetuned-emotion\",\n",
    "    repo_type=\"model\",\n",
    ")"
   ],
   "id": "5bdc3d4e59817c4c",
   "outputs": [
    {
     "data": {
      "text/plain": [
       "events.out.tfevents.1750200814.DESKTOP-A6ASJMV.9040.10:   0%|          | 0.00/3.69k [00:00<?, ?B/s]"
      ],
      "application/vnd.jupyter.widget-view+json": {
       "version_major": 2,
       "version_minor": 0,
       "model_id": "385410d5bb394a17b9d595100432e4af"
      }
     },
     "metadata": {},
     "output_type": "display_data"
    },
    {
     "data": {
      "text/plain": [
       "events.out.tfevents.1750200824.DESKTOP-A6ASJMV.9040.13:   0%|          | 0.00/4.91k [00:00<?, ?B/s]"
      ],
      "application/vnd.jupyter.widget-view+json": {
       "version_major": 2,
       "version_minor": 0,
       "model_id": "9da79d04d88d4e17bf4148f2df6596c0"
      }
     },
     "metadata": {},
     "output_type": "display_data"
    },
    {
     "data": {
      "text/plain": [
       "pytorch_model.bin:   0%|          | 0.00/268M [00:00<?, ?B/s]"
      ],
      "application/vnd.jupyter.widget-view+json": {
       "version_major": 2,
       "version_minor": 0,
       "model_id": "92ea4d3b49f1407db5b05d2be39e4027"
      }
     },
     "metadata": {},
     "output_type": "display_data"
    },
    {
     "data": {
      "text/plain": [
       "events.out.tfevents.1750200814.DESKTOP-A6ASJMV.9040.11:   0%|          | 0.00/4.91k [00:00<?, ?B/s]"
      ],
      "application/vnd.jupyter.widget-view+json": {
       "version_major": 2,
       "version_minor": 0,
       "model_id": "47aadddb966a4a90b00c79d8f3b003dd"
      }
     },
     "metadata": {},
     "output_type": "display_data"
    },
    {
     "data": {
      "text/plain": [
       "Upload 8 LFS files:   0%|          | 0/8 [00:00<?, ?it/s]"
      ],
      "application/vnd.jupyter.widget-view+json": {
       "version_major": 2,
       "version_minor": 0,
       "model_id": "d3f6f5b30a0b4b5b9db12c8f288b4573"
      }
     },
     "metadata": {},
     "output_type": "display_data"
    },
    {
     "data": {
      "text/plain": [
       "events.out.tfevents.1750200824.DESKTOP-A6ASJMV.9040.12:   0%|          | 0.00/4.93k [00:00<?, ?B/s]"
      ],
      "application/vnd.jupyter.widget-view+json": {
       "version_major": 2,
       "version_minor": 0,
       "model_id": "d1df0a80616e4255af2a223d2c730f52"
      }
     },
     "metadata": {},
     "output_type": "display_data"
    },
    {
     "data": {
      "text/plain": [
       "events.out.tfevents.1750201334.DESKTOP-A6ASJMV.9040.14:   0%|          | 0.00/4.93k [00:00<?, ?B/s]"
      ],
      "application/vnd.jupyter.widget-view+json": {
       "version_major": 2,
       "version_minor": 0,
       "model_id": "c8ec0c99d25d4567a034adf618fe5af6"
      }
     },
     "metadata": {},
     "output_type": "display_data"
    },
    {
     "data": {
      "text/plain": [
       "events.out.tfevents.1750201334.DESKTOP-A6ASJMV.9040.15:   0%|          | 0.00/4.91k [00:00<?, ?B/s]"
      ],
      "application/vnd.jupyter.widget-view+json": {
       "version_major": 2,
       "version_minor": 0,
       "model_id": "223ed224e69c41819bae318a28e3e946"
      }
     },
     "metadata": {},
     "output_type": "display_data"
    },
    {
     "data": {
      "text/plain": [
       "training_args.bin:   0%|          | 0.00/3.51k [00:00<?, ?B/s]"
      ],
      "application/vnd.jupyter.widget-view+json": {
       "version_major": 2,
       "version_minor": 0,
       "model_id": "381546dad2324d598c9788e70912b836"
      }
     },
     "metadata": {},
     "output_type": "display_data"
    },
    {
     "data": {
      "text/plain": [
       "CommitInfo(commit_url='https://huggingface.co/TinyTank/distilbert-base-uncased-finetuned-emotion/commit/69b41f6c3bdea711adca7c9d979951d9f3ff8da0', commit_message='Upload folder using huggingface_hub', commit_description='', oid='69b41f6c3bdea711adca7c9d979951d9f3ff8da0', pr_url=None, repo_url=RepoUrl('https://huggingface.co/TinyTank/distilbert-base-uncased-finetuned-emotion', endpoint='https://huggingface.co', repo_type='model', repo_id='TinyTank/distilbert-base-uncased-finetuned-emotion'), pr_revision=None, pr_num=None)"
      ]
     },
     "execution_count": 114,
     "metadata": {},
     "output_type": "execute_result"
    }
   ],
   "execution_count": 114
  },
  {
   "metadata": {
    "ExecuteTime": {
     "end_time": "2025-06-17T23:06:33.832576Z",
     "start_time": "2025-06-17T23:06:32.026115Z"
    }
   },
   "cell_type": "code",
   "source": [
    "trainer.push_to_hub(commit_message=\"This is a test\")\n",
    "\n"
   ],
   "id": "c4e68517a3daedea",
   "outputs": [
    {
     "ename": "AttributeError",
     "evalue": "'Trainer' object has no attribute 'repo'",
     "output_type": "error",
     "traceback": [
      "\u001B[31m---------------------------------------------------------------------------\u001B[39m",
      "\u001B[31mAttributeError\u001B[39m                            Traceback (most recent call last)",
      "\u001B[36mCell\u001B[39m\u001B[36m \u001B[39m\u001B[32mIn[113]\u001B[39m\u001B[32m, line 1\u001B[39m\n\u001B[32m----> \u001B[39m\u001B[32m1\u001B[39m trainer.push_to_hub(commit_message=\u001B[33m\"\u001B[39m\u001B[33mThis is a test\u001B[39m\u001B[33m\"\u001B[39m)\n",
      "\u001B[36mFile \u001B[39m\u001B[32m~\\.conda\\envs\\Book_Transformers\\Lib\\site-packages\\transformers\\trainer.py:2784\u001B[39m, in \u001B[36mTrainer.push_to_hub\u001B[39m\u001B[34m(self, commit_message, blocking, **kwargs)\u001B[39m\n\u001B[32m   2781\u001B[39m \u001B[38;5;28;01mif\u001B[39;00m \u001B[38;5;129;01mnot\u001B[39;00m \u001B[38;5;28mself\u001B[39m.is_world_process_zero():\n\u001B[32m   2782\u001B[39m     \u001B[38;5;28;01mreturn\u001B[39;00m\n\u001B[32m-> \u001B[39m\u001B[32m2784\u001B[39m git_head_commit_url = \u001B[38;5;28mself\u001B[39m.repo.push_to_hub(\n\u001B[32m   2785\u001B[39m     commit_message=commit_message, blocking=blocking, auto_lfs_prune=\u001B[38;5;28;01mTrue\u001B[39;00m\n\u001B[32m   2786\u001B[39m )\n\u001B[32m   2787\u001B[39m \u001B[38;5;66;03m# push separately the model card to be independant from the rest of the model\u001B[39;00m\n\u001B[32m   2788\u001B[39m \u001B[38;5;28;01mif\u001B[39;00m \u001B[38;5;28mself\u001B[39m.args.should_save:\n",
      "\u001B[31mAttributeError\u001B[39m: 'Trainer' object has no attribute 'repo'"
     ]
    }
   ],
   "execution_count": 113
  },
  {
   "metadata": {
    "ExecuteTime": {
     "end_time": "2025-06-17T23:18:43.268149Z",
     "start_time": "2025-06-17T23:18:42.838886Z"
    }
   },
   "cell_type": "code",
   "source": [
    "from transformers import pipeline\n",
    "\n",
    "model_id = \"TinyTank/distilbert-base-uncased-finetuned-emotion\"\n",
    "classifier = pipeline('text-classification', model=model_id, tokenizer=tokenizer)\n",
    "\n",
    "custom_tweet = \"My paddy field is grown suddenly.\"\n",
    "preds = classifier(custom_tweet, return_all_scores=True)\n",
    "preds"
   ],
   "id": "2bad0e44e69d2bc3",
   "outputs": [
    {
     "name": "stderr",
     "output_type": "stream",
     "text": [
      "C:\\Users\\InoueShinichi\\.conda\\envs\\Book_Transformers\\Lib\\site-packages\\transformers\\modeling_utils.py:1435: FutureWarning: You are using `torch.load` with `weights_only=False` (the current default value), which uses the default pickle module implicitly. It is possible to construct malicious pickle data which will execute arbitrary code during unpickling (See https://github.com/pytorch/pytorch/blob/main/SECURITY.md#untrusted-models for more details). In a future release, the default value for `weights_only` will be flipped to `True`. This limits the functions that could be executed during unpickling. Arbitrary objects will no longer be allowed to be loaded via this mode unless they are explicitly allowlisted by the user via `torch.serialization.add_safe_globals`. We recommend you start setting `weights_only=True` for any use case where you don't have full control of the loaded file. Please open an issue on GitHub for any issues related to this experimental feature.\n",
      "  state_dict = torch.load(resolved_archive_file, map_location=\"cpu\")\n"
     ]
    },
    {
     "data": {
      "text/plain": [
       "[[{'label': 'LABEL_0', 'score': 0.0029563482385128736},\n",
       "  {'label': 'LABEL_1', 'score': 0.7457382082939148},\n",
       "  {'label': 'LABEL_2', 'score': 0.00035574191133491695},\n",
       "  {'label': 'LABEL_3', 'score': 0.01212734542787075},\n",
       "  {'label': 'LABEL_4', 'score': 0.23717962205410004},\n",
       "  {'label': 'LABEL_5', 'score': 0.0016426451038569212}]]"
      ]
     },
     "execution_count": 123,
     "metadata": {},
     "output_type": "execute_result"
    }
   ],
   "execution_count": 123
  },
  {
   "metadata": {
    "ExecuteTime": {
     "end_time": "2025-06-17T23:18:45.029490Z",
     "start_time": "2025-06-17T23:18:44.936960Z"
    }
   },
   "cell_type": "code",
   "source": [
    "preds_df = pd.DataFrame(preds[0])\n",
    "plt.bar(labels, 100 * preds_df['score'], color='C0')\n",
    "plt.title(f\"{custom_tweet}\")\n",
    "plt.ylabel(\"Class prob %\")\n",
    "plt.show()"
   ],
   "id": "cd236a7e06290c55",
   "outputs": [
    {
     "data": {
      "text/plain": [
       "<Figure size 640x480 with 1 Axes>"
      ],
      "image/png": "[encoded data removed]"
     },
     "metadata": {},
     "output_type": "display_data"
    }
   ],
   "execution_count": 124
  }
 ],
 "metadata": {
  "kernelspec": {
   "display_name": "Python 3",
   "language": "python",
   "name": "python3"
  },
  "language_info": {
   "codemirror_mode": {
    "name": "ipython",
    "version": 2
   },
   "file_extension": ".py",
   "mimetype": "text/x-python",
   "name": "python",
   "nbconvert_exporter": "python",
   "pygments_lexer": "ipython2",
   "version": "2.7.6"
  }
 },
 "nbformat": 4,
 "nbformat_minor": 5
}
